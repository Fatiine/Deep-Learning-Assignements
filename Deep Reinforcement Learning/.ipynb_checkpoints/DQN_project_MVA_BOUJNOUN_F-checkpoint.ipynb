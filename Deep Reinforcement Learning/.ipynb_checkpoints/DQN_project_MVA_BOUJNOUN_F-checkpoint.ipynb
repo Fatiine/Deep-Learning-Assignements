{
 "cells": [
  {
   "cell_type": "markdown",
   "metadata": {
    "colab_type": "text",
    "id": "W9c2rNgaVbka"
   },
   "source": [
    "**You may need to install [OpenCV](https://pypi.python.org/pypi/opencv-python) and [scikit-video](http://www.scikit-video.org/stable/).**"
   ]
  },
  {
   "cell_type": "code",
   "execution_count": 1,
   "metadata": {
    "colab": {
     "base_uri": "https://localhost:8080/",
     "height": 34
    },
    "colab_type": "code",
    "id": "0UsBbqHRVbkh",
    "outputId": "fe41c2c0-dadf-4733-fa4b-8e68d6d0b95e"
   },
   "outputs": [
    {
     "name": "stderr",
     "output_type": "stream",
     "text": [
      "Using TensorFlow backend.\n"
     ]
    }
   ],
   "source": [
    "import keras\n",
    "import numpy as np\n",
    "import io\n",
    "import base64\n",
    "from IPython.display import HTML\n",
    "import skvideo.io\n",
    "import cv2\n",
    "import json\n",
    "\n",
    "from keras.models import Sequential,model_from_json\n",
    "from keras.layers.core import Dense, Flatten\n",
    "from keras.optimizers import sgd\n",
    "from keras.layers import Conv2D, MaxPooling2D, Activation, AveragePooling2D,Reshape,BatchNormalization"
   ]
  },
  {
   "cell_type": "markdown",
   "metadata": {
    "colab_type": "text",
    "id": "eH_NyZQZVbkx"
   },
   "source": [
    "# MiniProject #3: Deep Reinforcement Learning"
   ]
  },
  {
   "cell_type": "markdown",
   "metadata": {
    "colab_type": "text",
    "id": "9Dcqt0MfVbk2"
   },
   "source": [
    "__Notations__: $E_p$ is the expectation under probability $p$. Please justify each of your answer and widely comment your code."
   ]
  },
  {
   "cell_type": "markdown",
   "metadata": {
    "colab_type": "text",
    "id": "8K2zd6cSVbk6"
   },
   "source": [
    "# Context"
   ]
  },
  {
   "cell_type": "markdown",
   "metadata": {
    "colab_type": "text",
    "id": "C62RkL4mVbk9"
   },
   "source": [
    "In a reinforcement learning algorithm, we modelize each step $t$ as an action $a_t$ obtained from a state $s_t$, i.e. $\\{(a_{t},s_{t})_{t\\leq T}\\}$ having the Markov property. We consider a discount factor $\\gamma \\in [0,1]$ that ensures convergence. The goal is to find among all the policies $\\pi$, one that maximizes the expected reward:\n",
    "\n",
    "\\begin{equation*}\n",
    "R(\\pi)=\\sum_{t\\leq T}E_{p^{\\pi}}[\\gamma^t r(s_{t},a_{t})] \\> ,\n",
    "\\end{equation*}\n",
    "\n",
    "where: \n",
    "\\begin{equation*}p^{\\pi}(a_{0},a_{1},s_{1},...,a_{T},s_{T})=p(a_{0})\\prod_{t=1}^{T}\\pi(a_{t}|s_{t})p(s_{t+1}|s_{t},a_{t}) \\> .\n",
    "\\end{equation*}\n",
    "\n",
    "We note the $Q$-function:\n",
    "\n",
    "\\begin{equation*}Q^\\pi(s,a)=E_{p^{\\pi}}[\\sum_{t\\leq T}\\gamma^{t}r(s_{t},a_{t})|s_{0}=s,a_{0}=a] \\> .\n",
    "\\end{equation*}\n",
    "\n",
    "Thus, the optimal Q function is:\n",
    "\\begin{equation*}\n",
    "Q^*(s,a)=\\max_{\\pi}Q^\\pi(s,a) \\> .\n",
    "\\end{equation*}\n",
    "\n",
    "In this project, we will apply the deep reinforcement learning techniques to a simple game: an agent will have to learn from scratch a policy that will permit it maximizing a reward."
   ]
  },
  {
   "cell_type": "markdown",
   "metadata": {
    "colab_type": "text",
    "id": "hgRrkYXEVbk_"
   },
   "source": [
    "## The environment, the agent and the game"
   ]
  },
  {
   "cell_type": "markdown",
   "metadata": {
    "colab_type": "text",
    "id": "_iHO8GHiVblB"
   },
   "source": [
    "### The environment"
   ]
  },
  {
   "cell_type": "markdown",
   "metadata": {
    "colab_type": "text",
    "id": "22bULm3yVblE"
   },
   "source": [
    "```Environment``` is an abstract class that represents the states, rewards, and actions to obtain the new state."
   ]
  },
  {
   "cell_type": "code",
   "execution_count": 2,
   "metadata": {
    "colab": {},
    "colab_type": "code",
    "id": "iuapwiSzVblH"
   },
   "outputs": [],
   "source": [
    "class Environment(object):\n",
    "    def __init__(self):\n",
    "        pass\n",
    "\n",
    "    def act(self, act):\n",
    "        \"\"\"\n",
    "        One can act on the environment and obtain its reaction:\n",
    "        - the new state\n",
    "        - the reward of the new state\n",
    "        - should we continue the game?\n",
    "\n",
    "        :return: state, reward, game_over\n",
    "        \"\"\"\n",
    "        pass\n",
    "\n",
    "\n",
    "    def reset(self):\n",
    "        \"\"\"\n",
    "        Reinitialize the environment to a random state and returns\n",
    "        the original state\n",
    "\n",
    "        :return: state\n",
    "        \"\"\"\n",
    "        pass\n",
    "    \n",
    "    def draw(self):\n",
    "        \"\"\"\n",
    "        Visualize in the console or graphically the current state\n",
    "        \"\"\"\n",
    "        pass"
   ]
  },
  {
   "cell_type": "markdown",
   "metadata": {
    "colab_type": "text",
    "id": "QRGTyloaVblN"
   },
   "source": [
    "The method ```act``` allows to act on the environment at a given state $s_t$ (stored internally), via action $a_t$. The method will return the new state $s_{t+1}$, the reward $r(s_{t},a_{t})$ and determines if $t\\leq T$ (*game_over*).\n",
    "\n",
    "The method ```reset``` simply reinitializes the environment to a random state $s_0$.\n",
    "\n",
    "The method ```draw``` displays the current state $s_t$ (this is useful to check the behavior of the Agent).\n",
    "\n",
    "We modelize $s_t$ as a tensor, while $a_t$ is an integer."
   ]
  },
  {
   "cell_type": "markdown",
   "metadata": {
    "colab_type": "text",
    "id": "bdJyX4tiVblQ"
   },
   "source": [
    "### The Agent"
   ]
  },
  {
   "cell_type": "markdown",
   "metadata": {
    "colab_type": "text",
    "id": "NL1HJDQTVblR"
   },
   "source": [
    "The goal of the ```Agent``` is to interact with the ```Environment``` by proposing actions $a_t$ obtained from a given state $s_t$ to attempt to maximize its __reward__ $r(s_t,a_t)$. We propose the following abstract class:"
   ]
  },
  {
   "cell_type": "code",
   "execution_count": 3,
   "metadata": {
    "colab": {},
    "colab_type": "code",
    "id": "fgp72jA3VblT"
   },
   "outputs": [],
   "source": [
    "class Agent(object):\n",
    "    def __init__(self, epsilon=0.1, n_action=4):\n",
    "        self.epsilon = epsilon\n",
    "        self.n_action = n_action\n",
    "    \n",
    "    def set_epsilon(self,e):\n",
    "        self.epsilon = e\n",
    "\n",
    "    def act(self,s,train=True):\n",
    "        \"\"\" This function should return the next action to do:\n",
    "        an integer between 0 and 4 (not included) with a random exploration of epsilon\"\"\"\n",
    "        if train:\n",
    "            if np.random.rand() <= self.epsilon:\n",
    "                a = np.random.randint(0, self.n_action, size=1)[0]\n",
    "            else:\n",
    "                a = self.learned_act(s)\n",
    "        else: # in some cases, this can improve the performance.. remove it if poor performances\n",
    "            a = self.learned_act(s)\n",
    "\n",
    "        return a\n",
    "\n",
    "    def learned_act(self,s):\n",
    "        \"\"\" Act via the policy of the agent, from a given state s\n",
    "        it proposes an action a\"\"\"\n",
    "        pass\n",
    "\n",
    "    def reinforce(self, s, n_s, a, r, game_over_):\n",
    "        \"\"\" This function is the core of the learning algorithm. \n",
    "        It takes as an input the current state s_, the next state n_s_\n",
    "        the action a_ used to move from s_ to n_s_ and the reward r_.\n",
    "        \n",
    "        Its goal is to learn a policy.\n",
    "        \"\"\"\n",
    "        pass\n",
    "\n",
    "    def save(self):\n",
    "        \"\"\" This function returns basic stats if applicable: the\n",
    "        loss and/or the model\"\"\"\n",
    "        pass\n",
    "\n",
    "    def load(self):\n",
    "        \"\"\" This function allows to restore a model\"\"\"\n",
    "        pass"
   ]
  },
  {
   "cell_type": "markdown",
   "metadata": {
    "colab_type": "text",
    "id": "avdhlp1tVblZ"
   },
   "source": [
    "***\n",
    "__Question 1__:\n",
    "Explain the function act. Why is ```epsilon``` essential?"
   ]
  },
  {
   "cell_type": "markdown",
   "metadata": {
    "colab_type": "text",
    "id": "iC9KwD9xVbla"
   },
   "source": [
    "> In the training part of the function `act`, the algorithm explores new actions with a probability `epsilon`. So the `epsilon` controls the explore/exploit paradigm.\n",
    "In the training part, the algorithm would have tested enough new actions to decide which ones are good for improving the policy and maximizing the reward. "
   ]
  },
  {
   "cell_type": "markdown",
   "metadata": {
    "colab_type": "text",
    "id": "3T-_7GNRVblb"
   },
   "source": [
    "***\n",
    "### The Game"
   ]
  },
  {
   "cell_type": "markdown",
   "metadata": {
    "colab_type": "text",
    "id": "mSsisANOVbld"
   },
   "source": [
    "The ```Agent``` and the ```Environment``` work in an interlaced way as in the following (take some time to understand this code as it is the core of the project)\n",
    "\n",
    "```python\n",
    "\n",
    "epoch = 300\n",
    "env = Environment()\n",
    "agent = Agent()\n",
    "\n",
    "\n",
    "# Number of won games\n",
    "score = 0\n",
    "loss = 0\n",
    "\n",
    "\n",
    "for e in range(epoch):\n",
    "    # At each epoch, we restart to a fresh game and get the initial state\n",
    "    state = env.reset()\n",
    "    # This assumes that the games will end\n",
    "    game_over = False\n",
    "\n",
    "    win = 0\n",
    "    lose = 0\n",
    "    \n",
    "    while not game_over:\n",
    "        # The agent performs an action\n",
    "        action = agent.act(state)\n",
    "\n",
    "        # Apply an action to the environment, get the next state, the reward\n",
    "        # and if the games end\n",
    "        prev_state = state\n",
    "        state, reward, game_over = env.act(action)\n",
    "\n",
    "        # Update the counters\n",
    "        if reward > 0:\n",
    "            win = win + reward\n",
    "        if reward < 0:\n",
    "            lose = lose -reward\n",
    "\n",
    "        # Apply the reinforcement strategy\n",
    "        loss = agent.reinforce(prev_state, state,  action, reward, game_over)\n",
    "\n",
    "    # Save as a mp4\n",
    "    if e % 10 == 0:\n",
    "        env.draw(e)\n",
    "\n",
    "    # Update stats\n",
    "    score += win-lose\n",
    "\n",
    "    print(\"Epoch {:03d}/{:03d} | Loss {:.4f} | Win/lose count {}/{} ({})\"\n",
    "          .format(e, epoch, loss, win, lose, win-lose))\n",
    "    agent.save()\n",
    "```"
   ]
  },
  {
   "cell_type": "markdown",
   "metadata": {
    "colab_type": "text",
    "id": "Syb_7reAVble"
   },
   "source": [
    "# The game, *eat cheese*"
   ]
  },
  {
   "cell_type": "markdown",
   "metadata": {
    "colab_type": "text",
    "id": "5xjxPpDcVblf"
   },
   "source": [
    "A rat runs on an island and tries to eat as much as possible. The island is subdivided into $N\\times N$ cells, in which there are cheese (+0.5) and poisonous cells (-1). The rat has a visibility of 2 cells (thus it can see $5^2$ cells). The rat is given a time $T$ to accumulate as much food as possible. It can perform 4 actions: going up, down, left, right. \n",
    "\n",
    "The goal is to code an agent to solve this task that will learn by trial and error. We propose the following environment:"
   ]
  },
  {
   "cell_type": "code",
   "execution_count": 4,
   "metadata": {
    "colab": {},
    "colab_type": "code",
    "id": "nSIJ_vo9Vblh"
   },
   "outputs": [],
   "source": [
    "class Environment(object):\n",
    "    def __init__(self, grid_size=10, max_time=500, temperature=0.1):\n",
    "        grid_size = grid_size+4\n",
    "        self.grid_size = grid_size\n",
    "        self.max_time = max_time\n",
    "        self.temperature = temperature\n",
    "\n",
    "        #board on which one plays\n",
    "        self.board = np.zeros((grid_size,grid_size))\n",
    "        self.position = np.zeros((grid_size,grid_size))\n",
    "\n",
    "        # coordinate of the cat\n",
    "        self.x = 0\n",
    "        self.y = 1\n",
    "\n",
    "        # self time\n",
    "        self.t = 0\n",
    "\n",
    "        self.scale=16\n",
    "\n",
    "        self.to_draw = np.zeros((max_time+2, grid_size*self.scale, grid_size*self.scale, 3))\n",
    "\n",
    "\n",
    "    def draw(self,e):\n",
    "        skvideo.io.vwrite(str(e) + '.mp4', self.to_draw)\n",
    "\n",
    "    def get_frame(self,t):\n",
    "        b = np.zeros((self.grid_size,self.grid_size,3))+128\n",
    "        b[self.board>0,0] = 256\n",
    "        b[self.board < 0, 2] = 256\n",
    "        b[self.x,self.y,:]=256\n",
    "        b[-2:,:,:]=0\n",
    "        b[:,-2:,:]=0\n",
    "        b[:2,:,:]=0\n",
    "        b[:,:2,:]=0\n",
    "        \n",
    "        b =  cv2.resize(b, None, fx=self.scale, fy=self.scale, interpolation=cv2.INTER_NEAREST)\n",
    "\n",
    "        self.to_draw[t,:,:,:]=b\n",
    "\n",
    "\n",
    "    def act(self, action):\n",
    "        \"\"\"This function returns the new state, reward and decides if the\n",
    "        game ends.\"\"\"\n",
    "\n",
    "        self.get_frame(int(self.t))\n",
    "\n",
    "        self.position = np.zeros((self.grid_size, self.grid_size))\n",
    "\n",
    "        self.position[0:2,:]= -1\n",
    "        self.position[:,0:2] = -1\n",
    "        self.position[-2:, :] = -1\n",
    "        self.position[-2:, :] = -1\n",
    "\n",
    "        self.position[self.x, self.y] = 1\n",
    "        if action == 0:\n",
    "            if self.x == self.grid_size-3:\n",
    "                self.x = self.x-1\n",
    "            else:\n",
    "                self.x = self.x + 1\n",
    "        elif action == 1:\n",
    "            if self.x == 2:\n",
    "                self.x = self.x+1\n",
    "            else:\n",
    "                self.x = self.x-1\n",
    "        elif action == 2:\n",
    "            if self.y == self.grid_size - 3:\n",
    "                self.y = self.y - 1\n",
    "            else:\n",
    "                self.y = self.y + 1\n",
    "        elif action == 3:\n",
    "            if self.y == 2:\n",
    "                self.y = self.y + 1\n",
    "            else:\n",
    "                self.y = self.y - 1\n",
    "        else:\n",
    "            RuntimeError('Error: action not recognized')\n",
    "\n",
    "        self.t = self.t + 1\n",
    "        reward = self.board[self.x, self.y]\n",
    "        self.board[self.x, self.y] = 0\n",
    "        game_over = self.t > self.max_time\n",
    "        state = np.concatenate((self.board.reshape(self.grid_size, self.grid_size,1),\n",
    "                        self.position.reshape(self.grid_size, self.grid_size,1)),axis=2)\n",
    "        state = state[self.x-2:self.x+3,self.y-2:self.y+3,:]\n",
    "\n",
    "        return state, reward, game_over\n",
    "\n",
    "    def reset(self):\n",
    "        \"\"\"This function resets the game and returns the initial state\"\"\"\n",
    "\n",
    "        self.x = np.random.randint(3, self.grid_size-3, size=1)[0]\n",
    "        self.y = np.random.randint(3, self.grid_size-3, size=1)[0]\n",
    "\n",
    "\n",
    "        bonus = 0.5*np.random.binomial(1,self.temperature,size=self.grid_size**2)\n",
    "        bonus = bonus.reshape(self.grid_size,self.grid_size)\n",
    "\n",
    "        malus = -1.0*np.random.binomial(1,self.temperature,size=self.grid_size**2)\n",
    "        malus = malus.reshape(self.grid_size, self.grid_size)\n",
    "\n",
    "        self.to_draw = np.zeros((self.max_time+2, self.grid_size*self.scale, self.grid_size*self.scale, 3))\n",
    "\n",
    "\n",
    "        malus[bonus>0]=0\n",
    "\n",
    "        self.board = bonus + malus\n",
    "\n",
    "        self.position = np.zeros((self.grid_size, self.grid_size))\n",
    "        self.position[0:2,:]= -1\n",
    "        self.position[:,0:2] = -1\n",
    "        self.position[-2:, :] = -1\n",
    "        self.position[-2:, :] = -1\n",
    "        self.board[self.x,self.y] = 0\n",
    "        self.t = 0\n",
    "\n",
    "        state = np.concatenate((\n",
    "                               self.board.reshape(self.grid_size, self.grid_size,1),\n",
    "                        self.position.reshape(self.grid_size, self.grid_size,1)),axis=2)\n",
    "\n",
    "        state = state[self.x - 2:self.x + 3, self.y - 2:self.y + 3, :]\n",
    "        return state"
   ]
  },
  {
   "cell_type": "markdown",
   "metadata": {
    "colab_type": "text",
    "id": "YiiIvJEgVbll"
   },
   "source": [
    "The following elements are important because they correspond to the hyper parameters for this project:"
   ]
  },
  {
   "cell_type": "code",
   "execution_count": 5,
   "metadata": {
    "colab": {},
    "colab_type": "code",
    "id": "5gt61ssFVblo"
   },
   "outputs": [],
   "source": [
    "# parameters\n",
    "size = 13\n",
    "T=200\n",
    "temperature=0.3\n",
    "epochs_train=40 # set small when debugging\n",
    "epochs_test=10 # set small when debugging\n",
    "\n",
    "# display videos\n",
    "def display_videos(name):\n",
    "    video = io.open(name, 'r+b').read()\n",
    "    encoded = base64.b64encode(video)\n",
    "    return '''<video alt=\"test\" controls>\n",
    "                <source src=\"data:video/mp4;base64,{0}\" type=\"video/mp4\" />\n",
    "             </video>'''.format(encoded.decode('ascii'))"
   ]
  },
  {
   "cell_type": "markdown",
   "metadata": {
    "colab_type": "text",
    "id": "mRXd660BVbls"
   },
   "source": [
    "__Question 2__ Explain the use of the arrays ```position``` and ```board```."
   ]
  },
  {
   "cell_type": "markdown",
   "metadata": {
    "colab_type": "text",
    "id": "jC6ooVfiVblt"
   },
   "source": [
    "> The array `position` is used to store the position ot the rat. It is a grid that contains -1 in the borders, 1 in the rat position and 0 elsewhere.\n",
    "The array `board` is used to describe the content of the island at each time t. It is seen as a reward in each square. It has a value -1 for poison, +0.5 for cheese and 0 elsewhere."
   ]
  },
  {
   "cell_type": "markdown",
   "metadata": {
    "colab_type": "text",
    "id": "CdOXeD09Vblu"
   },
   "source": [
    "## Random Agent"
   ]
  },
  {
   "cell_type": "markdown",
   "metadata": {
    "colab_type": "text",
    "id": "tmLRR5exVblv"
   },
   "source": [
    "***\n",
    "__Question 3__ Implement a random Agent (only ```learned_act``` needs to be implemented):"
   ]
  },
  {
   "cell_type": "code",
   "execution_count": 6,
   "metadata": {
    "colab": {},
    "colab_type": "code",
    "id": "rF8GByxEVblw"
   },
   "outputs": [],
   "source": [
    "class RandomAgent(Agent):\n",
    "    def __init__(self):\n",
    "        super(RandomAgent, self).__init__()\n",
    "        pass\n",
    "\n",
    "    def learned_act(self, s):\n",
    "        return int(np.random.rand()*4)"
   ]
  },
  {
   "cell_type": "markdown",
   "metadata": {
    "colab_type": "text",
    "id": "bbjkm6NRVblz"
   },
   "source": [
    "***\n",
    "***\n",
    "__Question 4__ Visualize the game moves. You need to fill in the following function for the evaluation:"
   ]
  },
  {
   "cell_type": "code",
   "execution_count": 7,
   "metadata": {
    "colab": {},
    "colab_type": "code",
    "id": "mN_hNUOhVbl0"
   },
   "outputs": [],
   "source": [
    "def test(agent,env,epochs,prefix=''):\n",
    "    # Number of won games\n",
    "    score = 0\n",
    "        \n",
    "    for e in range(epochs):\n",
    "        \n",
    "        ##### FILL IN HERE\n",
    "        # initial state\n",
    "        state = env.reset()\n",
    "        game_over = False\n",
    "        win = 0\n",
    "        lose = 0\n",
    "\n",
    "        while not game_over:\n",
    "            # perform an action\n",
    "            action = agent.act(state)\n",
    "            prev_state = state\n",
    "            state, reward, game_over = env.act(action)\n",
    "\n",
    "            if reward > 0:\n",
    "                win = win + reward\n",
    "            if reward < 0:\n",
    "                lose = lose -reward\n",
    "        \n",
    "        # Save as a mp4\n",
    "        env.draw(prefix+str(e))\n",
    "\n",
    "        # Update stats\n",
    "        score = score + win-lose\n",
    "\n",
    "        print(\"Win/lose count {}/{}. Average score ({})\"\n",
    "              .format(win, lose, score/(1+e)))\n",
    "    print('Final score: '+str(score/epochs))"
   ]
  },
  {
   "cell_type": "code",
   "execution_count": null,
   "metadata": {
    "colab": {},
    "colab_type": "code",
    "id": "Kh_37_8vVbl3"
   },
   "outputs": [
    {
     "name": "stdout",
     "output_type": "stream",
     "text": [
      "Win/lose count 8.5/15.0. Average score (-6.5)\n",
      "Win/lose count 13.5/11.0. Average score (-2.0)\n",
      "Win/lose count 16.0/13.0. Average score (-0.3333333333333333)\n",
      "Win/lose count 9.0/15.0. Average score (-1.75)\n",
      "Win/lose count 10.0/6.0. Average score (-0.6)\n",
      "Win/lose count 6.5/20.0. Average score (-2.75)\n",
      "Win/lose count 8.0/13.0. Average score (-3.0714285714285716)\n",
      "Win/lose count 9.5/9.0. Average score (-2.625)\n"
     ]
    }
   ],
   "source": [
    "# Initialize the game\n",
    "env = Environment(grid_size=size, max_time=T,temperature=temperature)\n",
    "\n",
    "# Initialize the agent!\n",
    "agent = RandomAgent()\n",
    "\n",
    "test(agent,env,epochs_test,prefix='random')\n",
    "HTML(display_videos('random0.mp4'))"
   ]
  },
  {
   "cell_type": "markdown",
   "metadata": {
    "colab_type": "text",
    "id": "qY4vKadJVbmA"
   },
   "source": [
    "***\n",
    "## DQN"
   ]
  },
  {
   "cell_type": "markdown",
   "metadata": {
    "colab_type": "text",
    "id": "W-O5wCOVVbmC"
   },
   "source": [
    "Let us assume here that $T=\\infty$.\n",
    "\n",
    "***\n",
    "__Question 5__ Let $\\pi$ be a policy, show that:\n",
    "\n",
    "\\begin{equation*}\n",
    "Q^{\\pi}(s,a)=E_{(s',a')\\sim p(.|s,a)}[r(s,a)+\\gamma Q^{\\pi}(s',a')]\n",
    "\\end{equation*}\n",
    "\n",
    "Then, show that for the optimal policy $\\pi^*$ (we assume its existence), the following holds: \n",
    "\n",
    "\\begin{equation*}\n",
    "Q^{*}(s,a)=E_{s'\\sim \\pi^*(.|s,a)}[r(s,a)+\\gamma\\max_{a'}Q^{*}(s',a')].\n",
    "\\end{equation*}\n",
    "Finally, deduce that a plausible objective is:\n",
    "\n",
    "\\begin{equation*}\n",
    "\\mathcal{L}(\\theta)=E_{s' \\sim \\pi^*(.|s,a)}\\Vert r+\\gamma\\max\\max_{a'}Q(s',a',\\theta)-Q(s,a,\\theta)\\Vert^{2}.\n",
    "\\end{equation*}\n",
    "\n",
    "\n"
   ]
  },
  {
   "cell_type": "markdown",
   "metadata": {
    "colab_type": "text",
    "id": "GIJ7nsnJVbmE"
   },
   "source": [
    "> - Let's show that :\n",
    "\\begin{equation*}\n",
    "Q^{\\pi}(s,a)=\\mathbb{E}_{(s',a')\\sim p(.|s,a)}[r(s,a)+\\gamma Q^{\\pi}(s',a')]\n",
    "\\end{equation*}\n",
    "We have : \n",
    "\\begin{align*}\n",
    "Q^{\\pi}(s,a) &= \\mathbb{E}_{p^{\\pi}}[\\sum_{t=0}^{+ \\infty}\\gamma^{t}r(s_{t},a_{t})|s_{0}=s,a_{0}=a] \\\\\n",
    "&= \\mathbb{E}_{p^{\\pi}}[r(s,a) + \\gamma \\sum_{t=1}^{+ \\infty}\\gamma^{t-1}r(s_{t},a_{t})|s_{0}=s,a_{0}=a] \\\\\n",
    "&= \\mathbb{E}_{p^{\\pi}}[r(s,a) + \\gamma \\sum_{t=0}^{+ \\infty}\\gamma^{t}r(s_{t+1},a_{t+1})|s_{0}=s,a_{0}=a] \\\\\n",
    "&= \\mathbb{E}_{p^{\\pi}}[r(s,a) + \\gamma Q^{\\pi}(s',a')|s_{0}=s,a_{0}=a] \\\\\n",
    "&= \\mathbb{E}_{(s',a')\\sim p(.|s,a)}[r(s,a)+\\gamma Q^{\\pi}(s',a')] \\\\\n",
    "\\end{align*}\n",
    "\n",
    ">- Let's show that :\n",
    "\n"
   ]
  },
  {
   "cell_type": "markdown",
   "metadata": {
    "colab_type": "text",
    "id": "sd4Nm58kVbmG"
   },
   "source": [
    "***\n",
    "The DQN-learning algorithm relies on these derivations to train the parameters $\\theta$ of a Deep Neural Network:\n",
    "\n",
    "1. At the state $s_t$, select the action $a_t$ with best reward using $Q_t$ and store the results;\n",
    "\n",
    "2. Obtain the new state $s_{t+1}$ from the environment $p$;\n",
    "\n",
    "3. Store $(s_t,a_t,s_{t+1})$;\n",
    "\n",
    "4. Obtain $Q_{t+1}$ by minimizing  $\\mathcal{L}$ from a recovered batch from the previously stored results.\n",
    "\n",
    "***\n",
    "__Question 6__ Implement the class ```Memory``` that stores moves (in a replay buffer) via ```remember``` and provides a ```random_access``` to these. Specify a maximum memory size to avoid side effects. You can for example use a ```list()``` and set by default ```max_memory=100```."
   ]
  },
  {
   "cell_type": "code",
   "execution_count": 0,
   "metadata": {
    "colab": {},
    "colab_type": "code",
    "id": "fgK23TfRVbmK"
   },
   "outputs": [],
   "source": [
    "class Memory(object):\n",
    "    def __init__(self, max_memory=100):\n",
    "        self.max_memory = max_memory\n",
    "        self.memory = list()\n",
    "\n",
    "    def remember(self, m):\n",
    "        if len(self.memory) > self.max_memory:\n",
    "            self.memory.pop(0)\n",
    "        self.memory.append(m)\n",
    "\n",
    "    def random_access(self):\n",
    "        r = int(np.random.rand()*len(self.memory))\n",
    "        return self.memory[r]"
   ]
  },
  {
   "cell_type": "markdown",
   "metadata": {
    "colab_type": "text",
    "id": "RY6Ccr2hVbmN"
   },
   "source": [
    "***\n",
    "The pipeline we will use for training is given below:"
   ]
  },
  {
   "cell_type": "code",
   "execution_count": 0,
   "metadata": {
    "colab": {},
    "colab_type": "code",
    "id": "sNvycheSVbmO"
   },
   "outputs": [],
   "source": [
    "def train(agent,env,epoch,prefix=''):\n",
    "    # Number of won games\n",
    "    score = 0\n",
    "    loss = 0\n",
    "\n",
    "    for e in range(epoch):\n",
    "        # At each epoch, we restart to a fresh game and get the initial state\n",
    "        state = env.reset()\n",
    "        # This assumes that the games will terminate\n",
    "        game_over = False\n",
    "\n",
    "        win = 0\n",
    "        lose = 0\n",
    "\n",
    "        while not game_over:\n",
    "            # The agent performs an action\n",
    "            action = agent.act(state)\n",
    "\n",
    "            # Apply an action to the environment, get the next state, the reward\n",
    "            # and if the games end\n",
    "            prev_state = state\n",
    "            state, reward, game_over = env.act(action)\n",
    "\n",
    "            # Update the counters\n",
    "            if reward > 0:\n",
    "                win = win + reward\n",
    "            if reward < 0:\n",
    "                lose = lose -reward\n",
    "\n",
    "            # Apply the reinforcement strategy\n",
    "            loss = agent.reinforce(prev_state, state,  action, reward, game_over)\n",
    "\n",
    "        # Save as a mp4\n",
    "        if e % 10 == 0:\n",
    "            env.draw(prefix+str(e))\n",
    "\n",
    "        # Update stats\n",
    "        score += win-lose\n",
    "\n",
    "        print(\"Epoch {:03d}/{:03d} | Loss {:.4f} | Win/lose count {}/{} ({})\"\n",
    "              .format(e, epoch, loss, win, lose, win-lose))\n",
    "        agent.save(name_weights=prefix+'model.h5',name_model=prefix+'model.json')"
   ]
  },
  {
   "cell_type": "markdown",
   "metadata": {
    "colab_type": "text",
    "id": "jEusUFwlVbmR"
   },
   "source": [
    "***\n",
    "__Question 7__ Implement the DQN training algorithm using a cascade of fully connected layers. You can use different learning rate, batch size or memory size parameters. In particular, the loss might oscillate while the player will start to win the games. You have to find a good criterium."
   ]
  },
  {
   "cell_type": "code",
   "execution_count": 0,
   "metadata": {
    "colab": {},
    "colab_type": "code",
    "id": "NWzrb-CPVbmS"
   },
   "outputs": [],
   "source": [
    "class DQN(Agent):\n",
    "    def __init__(self, grid_size,  epsilon = 0.1, memory_size=100, batch_size = 16,n_state=2):\n",
    "        super(DQN, self).__init__(epsilon = epsilon)\n",
    "\n",
    "        # Discount for Q learning\n",
    "        self.discount = 0.99\n",
    "        \n",
    "        self.grid_size = grid_size\n",
    "        \n",
    "        # number of state\n",
    "        self.n_state = n_state\n",
    "\n",
    "        # Memory\n",
    "        self.memory = Memory(memory_size)\n",
    "        \n",
    "        # Batch size when learning\n",
    "        self.batch_size = batch_size\n",
    "\n",
    "    def learned_act(self, s):\n",
    "        return np.argmax(self.model.predict(s.reshape(1, 5, 5, self.n_state)))\n",
    "\n",
    "    def reinforce(self, s_, n_s_, a_, r_, game_over_):\n",
    "        # Two steps: first memorize the states, second learn from the pool\n",
    "\n",
    "        self.memory.remember([s_, n_s_, a_, r_, game_over_])\n",
    "        \n",
    "        input_states = np.zeros((self.batch_size, 5,5,self.n_state))\n",
    "        target_q = np.zeros((self.batch_size, 4))\n",
    "        \n",
    "        for i in range(self.batch_size):\n",
    "            ######## FILL IN\n",
    "            state, next_state, action, reward, game_over_ = self.memory.random_access()\n",
    "            input_states[i] = state\n",
    "            reshaped_state = state.reshape(1, 5, 5, self.n_state)\n",
    "            target_q[i] = self.model.predict(reshaped_state)\n",
    "            \n",
    "            if game_over_:\n",
    "                ######## FILL IN\n",
    "                target_q[i, action] = reward \n",
    "            else:\n",
    "                ######## FILL IN\n",
    "                reshaped_n_state = next_state.reshape(1, 5, 5, self.n_state)\n",
    "                max_value = np.max(self.model.predict(reshaped_n_state))\n",
    "                \n",
    "                target_q[i, action] = reward + self.discount * max_value\n",
    "        ######## FILL IN\n",
    "        # HINT: Clip the target to avoid exploiding gradients.. -- clipping is a bit tighter\n",
    "        target_q = np.clip(target_q, -3, 3)\n",
    "\n",
    "        l = self.model.train_on_batch(input_states, target_q)\n",
    "\n",
    "\n",
    "        return l\n",
    "\n",
    "    def save(self,name_weights='model.h5',name_model='model.json'):\n",
    "        self.model.save_weights(name_weights, overwrite=True)\n",
    "        with open(name_model, \"w\") as outfile:\n",
    "            json.dump(self.model.to_json(), outfile)\n",
    "            \n",
    "    def load(self,name_weights='model.h5',name_model='model.json'):\n",
    "        with open(name_model, \"r\") as jfile:\n",
    "            model = model_from_json(json.load(jfile))\n",
    "        model.load_weights(name_weights)\n",
    "        model.compile(\"sgd\", \"mse\")\n",
    "        self.model = model\n",
    "\n",
    "            \n",
    "class DQN_FC(DQN):\n",
    "    def __init__(self, *args, lr=0.1,**kwargs):\n",
    "        super(DQN_FC, self).__init__( *args,**kwargs)\n",
    "        \n",
    "        # NN Model\n",
    "        \n",
    "        ####### FILL IN\n",
    "        model = Sequential()\n",
    "        model.add(Flatten(input_shape= (5, 5, self.n_state)))\n",
    "        model.add(Dense(64, activation = 'relu'))\n",
    "        model.add(Dense(64, activation = 'relu'))\n",
    "        model.add(Dense(32, activation = 'relu'))\n",
    "        model.add(Dense(4))\n",
    "        \n",
    "        model.compile(sgd(lr=lr, decay=1e-4, momentum=0.0), \"mse\")\n",
    "        self.model = model\n",
    "        "
   ]
  },
  {
   "cell_type": "code",
   "execution_count": 0,
   "metadata": {
    "colab": {
     "base_uri": "https://localhost:8080/",
     "height": 279
    },
    "colab_type": "code",
    "id": "XnGPt18_VbmW",
    "outputId": "a6c0b50f-8137-48b0-80a2-da30be3a6667"
   },
   "outputs": [
    {
     "name": "stdout",
     "output_type": "stream",
     "text": [
      "WARNING:tensorflow:From /usr/local/lib/python3.6/dist-packages/tensorflow/python/framework/op_def_library.py:263: colocate_with (from tensorflow.python.framework.ops) is deprecated and will be removed in a future version.\n",
      "Instructions for updating:\n",
      "Colocations handled automatically by placer.\n",
      "WARNING:tensorflow:From /usr/local/lib/python3.6/dist-packages/tensorflow/python/ops/math_ops.py:3066: to_int32 (from tensorflow.python.ops.math_ops) is deprecated and will be removed in a future version.\n",
      "Instructions for updating:\n",
      "Use tf.cast instead.\n",
      "Epoch 000/040 | Loss 0.0093 | Win/lose count 3.0/13.0 (-10.0)\n",
      "Epoch 001/040 | Loss 0.0100 | Win/lose count 1.0/5.0 (-4.0)\n",
      "Epoch 002/040 | Loss 0.0035 | Win/lose count 3.0/2.0 (1.0)\n",
      "Epoch 003/040 | Loss 0.0046 | Win/lose count 2.0/2.0 (0.0)\n",
      "Epoch 004/040 | Loss 0.0060 | Win/lose count 3.0/1.0 (2.0)\n",
      "Epoch 005/040 | Loss 0.0061 | Win/lose count 2.5/4.0 (-1.5)\n",
      "Epoch 006/040 | Loss 0.0079 | Win/lose count 6.0/6.0 (0.0)\n"
     ]
    }
   ],
   "source": [
    "env = Environment(grid_size=size, max_time=T, temperature=0.3)\n",
    "agent = DQN_FC(size, lr=.1, epsilon = 0.1, memory_size=2000, batch_size = 32)\n",
    "train(agent, env, epochs_train, prefix='fc_train')\n",
    "HTML(display_videos('fc_train10.mp4'))"
   ]
  },
  {
   "cell_type": "markdown",
   "metadata": {
    "colab_type": "text",
    "id": "kX_saUaxVbmc"
   },
   "source": [
    "***\n",
    "***\n",
    "__Question 8__ Implement the DQN training algorithm using a CNN (for example, 2 convolutional layers and one final fully connected layer)."
   ]
  },
  {
   "cell_type": "code",
   "execution_count": 0,
   "metadata": {
    "colab": {},
    "colab_type": "code",
    "id": "x0Mbha92Vbmd"
   },
   "outputs": [],
   "source": [
    "class DQN_CNN(DQN):\n",
    "    def __init__(self, *args,lr=0.1,**kwargs):\n",
    "        super(DQN_CNN, self).__init__(*args,**kwargs)\n",
    "        \n",
    "        ###### FILL IN\n",
    "        model = Sequential()\n",
    "        \n",
    "        model.add(Conv2D(64, (3, 3), activation = 'relu', input_shape = ((5, 5, self.n_state))))\n",
    "        model.add(Conv2D(64, (3, 3), activation = 'relu'))\n",
    "                  \n",
    "        model.add(Flatten())\n",
    "        model.add(Dense(4))\n",
    "        \n",
    "        model.compile(sgd(lr=lr, decay=1e-4, momentum=0.0), \"mse\")\n",
    "        self.model = model"
   ]
  },
  {
   "cell_type": "code",
   "execution_count": 0,
   "metadata": {
    "colab": {},
    "colab_type": "code",
    "id": "4zytktEmVbmg",
    "outputId": "eec458fc-1383-4754-e1b8-c97cea586908"
   },
   "outputs": [
    {
     "name": "stdout",
     "output_type": "stream",
     "text": [
      "Epoch 000/040 | Loss 0.0008 | Win/lose count 3.0/3.0 (0.0)\n",
      "Epoch 001/040 | Loss 0.0017 | Win/lose count 4.0/3.0 (1.0)\n",
      "Epoch 002/040 | Loss 0.0034 | Win/lose count 4.0/0 (4.0)\n",
      "Epoch 003/040 | Loss 0.0047 | Win/lose count 0/1.0 (-1.0)\n",
      "Epoch 004/040 | Loss 0.0013 | Win/lose count 4.5/4.0 (0.5)\n",
      "Epoch 005/040 | Loss 0.0078 | Win/lose count 2.5/5.0 (-2.5)\n",
      "Epoch 006/040 | Loss 0.0682 | Win/lose count 2.0/2.0 (0.0)\n",
      "Epoch 007/040 | Loss 0.0028 | Win/lose count 2.5/0 (2.5)\n",
      "Epoch 008/040 | Loss 0.0011 | Win/lose count 2.5/2.0 (0.5)\n",
      "Epoch 009/040 | Loss 0.0651 | Win/lose count 3.5/3.0 (0.5)\n",
      "Epoch 010/040 | Loss 0.0008 | Win/lose count 3.0/2.0 (1.0)\n",
      "Epoch 011/040 | Loss 0.0545 | Win/lose count 6.5/1.0 (5.5)\n",
      "Epoch 012/040 | Loss 0.0056 | Win/lose count 2.0/3.0 (-1.0)\n",
      "Epoch 013/040 | Loss 0.0010 | Win/lose count 11.0/4.0 (7.0)\n",
      "Epoch 014/040 | Loss 0.0017 | Win/lose count 7.5/3.0 (4.5)\n",
      "Epoch 015/040 | Loss 0.0012 | Win/lose count 4.5/3.0 (1.5)\n",
      "Epoch 016/040 | Loss 0.0010 | Win/lose count 10.5/5.0 (5.5)\n",
      "Epoch 017/040 | Loss 0.0019 | Win/lose count 3.0/5.0 (-2.0)\n",
      "Epoch 018/040 | Loss 0.0409 | Win/lose count 9.0/4.0 (5.0)\n",
      "Epoch 019/040 | Loss 0.0011 | Win/lose count 9.5/3.0 (6.5)\n",
      "Epoch 020/040 | Loss 0.0028 | Win/lose count 5.5/2.0 (3.5)\n",
      "Epoch 021/040 | Loss 0.0497 | Win/lose count 12.5/7.0 (5.5)\n",
      "Epoch 022/040 | Loss 0.0029 | Win/lose count 9.0/1.0 (8.0)\n",
      "Epoch 023/040 | Loss 0.0504 | Win/lose count 5.5/4.0 (1.5)\n",
      "Epoch 024/040 | Loss 0.0045 | Win/lose count 14.0/3.0 (11.0)\n",
      "Epoch 025/040 | Loss 0.0020 | Win/lose count 8.5/0 (8.5)\n",
      "Epoch 026/040 | Loss 0.0537 | Win/lose count 10.5/2.0 (8.5)\n",
      "Epoch 027/040 | Loss 0.0523 | Win/lose count 17.0/3.0 (14.0)\n",
      "Epoch 028/040 | Loss 0.0034 | Win/lose count 13.0/7.0 (6.0)\n",
      "Epoch 029/040 | Loss 0.0018 | Win/lose count 5.5/0 (5.5)\n",
      "Epoch 030/040 | Loss 0.0020 | Win/lose count 5.5/2.0 (3.5)\n",
      "Epoch 031/040 | Loss 0.0035 | Win/lose count 10.5/1.0 (9.5)\n",
      "Epoch 032/040 | Loss 0.0008 | Win/lose count 11.0/0 (11.0)\n",
      "Epoch 033/040 | Loss 0.0032 | Win/lose count 12.5/3.0 (9.5)\n",
      "Epoch 034/040 | Loss 0.0030 | Win/lose count 4.5/1.0 (3.5)\n",
      "Epoch 035/040 | Loss 0.0025 | Win/lose count 7.0/2.0 (5.0)\n",
      "Epoch 036/040 | Loss 0.0532 | Win/lose count 7.0/2.0 (5.0)\n",
      "Epoch 037/040 | Loss 0.0528 | Win/lose count 17.0/2.0 (15.0)\n",
      "Epoch 038/040 | Loss 0.0016 | Win/lose count 14.5/6.0 (8.5)\n",
      "Epoch 039/040 | Loss 0.0020 | Win/lose count 17.0/5.0 (12.0)\n"
     ]
    },
    {
     "data": {
      "text/html": [
       "<video alt=\"test\" controls>\n",
       "                <source src=\"data:video/mp4;base64,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\" type=\"video/mp4\" />\n",
       "             </video>"
      ],
      "text/plain": [
       "<IPython.core.display.HTML object>"
      ]
     },
     "execution_count": 28,
     "metadata": {
      "tags": []
     },
     "output_type": "execute_result"
    }
   ],
   "source": [
    "env = Environment(grid_size=size, max_time=T, temperature=0.3)\n",
    "agent = DQN_CNN(size, lr=.1, epsilon = 0.1, memory_size=2000, batch_size = 32)\n",
    "train(agent,env,epochs_train,prefix='cnn_train')\n",
    "HTML(display_videos('cnn_train10.mp4'))"
   ]
  },
  {
   "cell_type": "markdown",
   "metadata": {
    "colab_type": "text",
    "id": "qv-WWBo3Vbmk"
   },
   "source": [
    "***\n",
    "***\n",
    "__Question 9__ Test both algorithms and compare their performances. Which issue(s) do you observe? Observe also different behaviors by changing the temperature."
   ]
  },
  {
   "cell_type": "code",
   "execution_count": 0,
   "metadata": {
    "colab": {},
    "colab_type": "code",
    "id": "usxVPqY4Vbml",
    "outputId": "4f4a3e5d-7967-4f5a-8513-4b73780105a6"
   },
   "outputs": [
    {
     "name": "stdout",
     "output_type": "stream",
     "text": [
      "Test of the CNN\n",
      "Win/lose count 5.5/5.0. Average score (0.5)\n",
      "Win/lose count 2.0/1.0. Average score (0.75)\n",
      "Win/lose count 7.0/2.0. Average score (2.1666666666666665)\n",
      "Win/lose count 4.5/1.0. Average score (2.5)\n",
      "Win/lose count 5.0/1.0. Average score (2.8)\n",
      "Win/lose count 15.0/3.0. Average score (4.333333333333333)\n",
      "Win/lose count 4.5/2.0. Average score (4.071428571428571)\n",
      "Win/lose count 11.0/3.0. Average score (4.5625)\n",
      "Win/lose count 8.0/4.0. Average score (4.5)\n",
      "Win/lose count 3.0/3.0. Average score (4.05)\n",
      "Final score: 4.05\n",
      "Test of the FC\n",
      "Win/lose count 3.0/8.0. Average score (-5.0)\n",
      "Win/lose count 7.0/11.0. Average score (-4.5)\n",
      "Win/lose count 4.0/8.0. Average score (-4.333333333333333)\n",
      "Win/lose count 6.0/4.0. Average score (-2.75)\n",
      "Win/lose count 1.0/2.0. Average score (-2.4)\n",
      "Win/lose count 3.5/5.0. Average score (-2.25)\n",
      "Win/lose count 5.0/11.0. Average score (-2.7857142857142856)\n",
      "Win/lose count 1.5/4.0. Average score (-2.75)\n",
      "Win/lose count 3.5/2.0. Average score (-2.2777777777777777)\n",
      "Win/lose count 4.0/7.0. Average score (-2.35)\n",
      "Final score: -2.35\n"
     ]
    }
   ],
   "source": [
    "env = Environment(grid_size=size, max_time=T,temperature=0.3)\n",
    "agent_cnn = DQN_CNN(size, lr=.1, epsilon = 0.1, memory_size=2000, batch_size = 32)\n",
    "agent_cnn.load(name_weights='cnn_trainmodel.h5',name_model='cnn_trainmodel.json')\n",
    "\n",
    "agent_fc = DQN_FC(size, lr=.1, epsilon = 0.1, memory_size=2000, batch_size = 32)\n",
    "agent_cnn.load(name_weights='fc_trainmodel.h5',name_model='fc_trainmodel.json')\n",
    "print('Test of the CNN')\n",
    "test(agent_cnn,env,epochs_test,prefix='cnn_test')\n",
    "print('Test of the FC')\n",
    "test(agent_fc,env,epochs_test,prefix='fc_test')"
   ]
  },
  {
   "cell_type": "code",
   "execution_count": 0,
   "metadata": {
    "colab": {},
    "colab_type": "code",
    "id": "fCFx14DWVbmq",
    "outputId": "a50a6fbf-2734-4e75-dde8-0962663f46f5"
   },
   "outputs": [
    {
     "data": {
      "text/html": [
       "<video alt=\"test\" controls>\n",
       "                <source src=\"data:video/mp4;base64,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\" type=\"video/mp4\" />\n",
       "             </video>"
      ],
      "text/plain": [
       "<IPython.core.display.HTML object>"
      ]
     },
     "execution_count": 37,
     "metadata": {
      "tags": []
     },
     "output_type": "execute_result"
    }
   ],
   "source": [
    "HTML(display_videos('cnn_test9.mp4'))"
   ]
  },
  {
   "cell_type": "code",
   "execution_count": 0,
   "metadata": {
    "colab": {},
    "colab_type": "code",
    "id": "r32c5utiVbmt",
    "outputId": "99de43ff-1c99-4340-98e8-e685adeddc0e"
   },
   "outputs": [
    {
     "data": {
      "text/html": [
       "<video alt=\"test\" controls>\n",
       "                <source src=\"data:video/mp4;base64,AAAAIGZ0eXBpc29tAAACAGlzb21pc28yYXZjMW1wNDEAAAAIZnJlZQAAFgNtZGF0AAACrQYF//+p3EXpvebZSLeWLNgg2SPu73gyNjQgLSBjb3JlIDE1NSByMjkxNyAwYTg0ZDk4IC0gSC4yNjQvTVBFRy00IEFWQyBjb2RlYyAtIENvcHlsZWZ0IDIwMDMtMjAxOCAtIGh0dHA6Ly93d3cudmlkZW9sYW4ub3JnL3gyNjQuaHRtbCAtIG9wdGlvbnM6IGNhYmFjPTEgcmVmPTMgZGVibG9jaz0xOjA6MCBhbmFseXNlPTB4MToweDExMSBtZT1oZXggc3VibWU9NyBwc3k9MSBwc3lfcmQ9MS4wMDowLjAwIG1peGVkX3JlZj0xIG1lX3JhbmdlPTE2IGNocm9tYV9tZT0xIHRyZWxsaXM9MSA4eDhkY3Q9MCBjcW09MCBkZWFkem9uZT0yMSwxMSBmYXN0X3Bza2lwPTEgY2hyb21hX3FwX29mZnNldD00IHRocmVhZHM9NiBsb29rYWhlYWRfdGhyZWFkcz0xIHNsaWNlZF90aHJlYWRzPTAgbnI9MCBkZWNpbWF0ZT0xIGludGVybGFjZWQ9MCBibHVyYXlfY29tcGF0PTAgY29uc3RyYWluZWRfaW50cmE9MCBiZnJhbWVzPTMgYl9weXJhbWlkPTIgYl9hZGFwdD0xIGJfYmlhcz0wIGRpcmVjdD0xIHdlaWdodGI9MSBvcGVuX2dvcD0wIHdlaWdodHA9MiBrZXlpbnQ9MjUwIGtleWludF9taW49MjUgc2NlbmVjdXQ9NDAgaW50cmFfcmVmcmVzaD0wIHJjX2xvb2thaGVhZD00MCByYz1jcmYgbWJ0cmVlPTEgY3JmPTIzLjAgcWNvbXA9MC42MCBxcG1pbj0wIHFwbWF4PTY5IHFwc3RlcD00IGlwX3JhdGlvPTEuNDAgYXE9MToxLjAwAIAAAALJZYiEADv//vb8/AptUwn/LZ/+iL/lb+9P2a61uFE7M7QacwPQC/3cd/Xi1bCrc27LcdG8bJkAU3Roif7wCe9n2YfhfPwKXAUD8CmkyNjbSaAxHhrcKPt/TLlpUfhRa0zNX5U9Pux6bXFvhvk6JyYg56BtQpwL+vXcmpgi2yiJ6UgGkEFPMkpawotbqURsp+WjGquCgKEbFkIn9AR9h4DFs8w2F0fMGJKWywpmA56RvcugAW5TPIP69xLfhMeYJF0/Oe86noMLj3yPj97QZFA82hBNkGckKOaSG0AhHPVpio7YD23LKlhgTW5awS8//wSKBEzSDxgtADgGOAPMKh251MZFviplSXGj8w1NogrCNDqGxk1z2DKOWBoWtc8VoemjBSXAFiNHDmpVYbMnymW9GYaLf3NrvC9Cg630aWkOwP+Ab9N7QaPsyXGUiAut/Z3eoju2Ut/+AeQs5+QvoyzP9/j44nedPVhjVWw+/RtGksRyGu56ljlUHN6kS5QYn7zoiB6L3T5IqTNTCkjIJPPxFHWfXn6iFkfpRIwfLUlnBcOWe7Fv8AL/sDVY7P9cfJKJxSYRf/xoZBkV8smrXhz1oiQNF0IQLVAOre1/GbYt2f0QgVA6fP7ny8RB+3jqF0E23R5k3PFfOc+HJgro2NE97RJeGQYq0J+cTrAoxcZiXZtihE784SQlQ1VGWcnohlu3nEi8k9uTMb3koOrU+2aA1J6FXHeFhe16l8OfXoZOjFbme7zryLQAb+TYu41QBWMQYQgWg6fQEaqJr9AIwu3mxYWQC3JAPJxhLvAG9Jd5W/+TIgksV/dCBT3vGaEG1pwyHrkl0APyuRwkNFZGlGpB4k9uoEB+2g7vi5ot2o5Ro7WE2ziPbmCBI02MtYCs4STiyNGOsC19xrVKvcsiIqAwsmxpSrAG20gz6zLHExWTJIIaMjcNjfwABG0AAAAWQZojbEO//qmWAD1e0v2eX/9m20HycAAAAA9BnkF4hX8AZJ5N5ogjW3sAAAAOAZ5iakK/AGSJDMm5JuIAAAAgQZpnSahBaJlMCHf//qmWAFk0s5QZoFPsx98ZBj/b+9MAAAAQQZ6FRREsL/8AaYRxnHJFvQAAABABnqR0Qr8AjvqJE+LMUbbRAAAADwGepmpCvwCPBrAuv7+bQQAAABtBmqtJqEFsmUwId//+qZYAW/31fCGeXHeNoOAAAAAQQZ7JRRUsL/8AbAPrCrwfRgAAAA4Bnuh0Qr8Aku47zzi1DwAAABABnupqQr8Ajsshh9ASDi3oAAAAF0Ga70moQWyZTAhv//6nhABLvo5+JpeAAAAADkGfDUUVLC//AC1sqDFhAAAAEAGfLHRCvwBec5O/AB9u1cEAAAAQAZ8uakK/AF5zk72ePt2rgQAAABpBmzJJqEFsmUwIb//+p4QAdH2D/CcFuhJiwAAAAA9Bn1BFFSwr/wBfiWs048AAAAANAZ9xakK/AF+sWHinHwAAABlBm3NJqEFsmUwIb//+p4QATUfMeRif5bdDAAAAHUGblknhClJlMCG//qeEAE9xWkEIn+WybwE1+P3oAAAAEkGftEU0TCv/AD+MxewsF+XtwQAAAA4Bn9VqQr8AP4zWPOCDbgAAABJBm9hJqEFomUwU8N/+p4QAAScAAAAPAZ/3akK/AD+V80OtFdGBAAAAE0Gb+knhClJlMFLDv/6plgAAlYAAAAAPAZ4ZakK/AD7qG7DPVns3AAAAE0GaHEnhDomUwUTDv/6plgAAlYAAAAAPAZ47akK/AD7qG7DPVns3AAAAFkGaIEnhDyZTAh3//qmWABoPhR9z96EAAAAOQZ5eRRE8L/8AHmTndbAAAAAQAZ59dEK/AD7qG7p2XZW2gAAAABABnn9qQr8APuob2K0fbvtBAAAAE0GaZEmoQWiZTAh3//6plgAAlYAAAAAMQZ6CRREsL/8AALKBAAAAEAGeoXRCvwA+6hu6dl2VtoAAAAAPAZ6jakK/AD7qG7DPVns3AAAAEkGaqEmoQWyZTAhv//6nhAABJwAAAAxBnsZFFSwv/wAAsoEAAAAQAZ7ldEK/AD7qG7p2XZW2gQAAAA8BnudqQr8APuobsM9WezcAAAASQZrsSahBbJlMCG///qeEAAEnAAAADEGfCkUVLC//AACygQAAABABnyl0Qr8APuobunZdlbaAAAAADwGfK2pCvwA+6huwz1Z7NwAAABlBmy1JqEFsmUwIb//+p4QAUbFaQQif5bczAAAAGEGbTknhClJlMCHf/qmWACpaWVnFach7oQAAABZBm3JJ4Q6JlMCHf/6plgArfyDNAI71AAAADkGfkEURPC//ADOCLbPgAAAADwGfr3RCvwBFdx3R23wrUwAAAA8Bn7FqQr8ARV5ogtR5dj8AAAASQZu2SahBaJlMCG///qeEAAEnAAAADEGf1EURLC//AACygAAAAA8Bn/N0Qr8ARXcd0dt8K1MAAAAPAZ/1akK/AEVeaILUeXY+AAAAGkGb90moQWyZTAh3//6plgBAEWG6MQjn2AXhAAAAIUGaG0nhClJlMCHf/qmWAGegsxaZove1UDh/Pq5ovNL8wQAAABVBnjlFNEwv/wB5k9YwP0WLYLlIIfAAAAAQAZ5YdEK/AKP0A52xxpoKYQAAABABnlpqQr8AqFhHkuZ8ktuAAAAAEkGaX0moQWiZTAhv//6nhAABJwAAAAxBnn1FESwv/wAAsoEAAAAPAZ6cdEK/AKZZRxHZdlUXAAAADwGenmpCvwCmWUbrPVnp3QAAABlBmoJJqEFsmUwIb//+p4QAzfsHr2Z8EV1TAAAAD0GeoEUVLCv/AKg1uGtiwAAAAA0BnsFqQr8AqHKRb1sXAAAAGkGaw0moQWyZTAh3//6plgBlvaX87pCmERxwAAAAFkGa50nhClJlMCHf/qmWAEJ+PP5Ix8EAAAAOQZ8FRTRML/8AT5lQN6EAAAAQAZ8kdEK/AGweTdHbfCrZgQAAAA8BnyZqQr8AbAFjRK55dXcAAAATQZsrSahBaJlMCHf//qmWAACVgAAAAAxBn0lFESwv/wAAsoAAAAAQAZ9odEK/AGweTdHbfCrZgQAAAA8Bn2pqQr8AbAFjRK55dXcAAAATQZtvSahBbJlMCHf//qmWAACVgAAAAAxBn41FFSwv/wAAsoEAAAAQAZ+sdEK/AGweTdHbfCrZgQAAAA8Bn65qQr8AbAFjRK55dXcAAAATQZuzSahBbJlMCHf//qmWAACVgAAAAAxBn9FFFSwv/wAAsoAAAAAQAZ/wdEK/AGweTdHbfCrZgQAAAA8Bn/JqQr8AbAFjRK55dXcAAAATQZv3SahBbJlMCHf//qmWAACVgAAAAAxBnhVFFSwv/wAAsoEAAAAQAZ40dEK/AGweTdHbfCrZgAAAAA8BnjZqQr8AbAFjRK55dXcAAAATQZo7SahBbJlMCHf//qmWAACVgQAAAAxBnllFFSwv/wAAsoAAAAAQAZ54dEK/AGweTdHbfCrZgQAAAA8BnnpqQr8AbAFjRK55dXcAAAATQZp/SahBbJlMCHf//qmWAACVgQAAAAxBnp1FFSwv/wAAsoEAAAAQAZ68dEK/AGweTdHbfCrZgAAAAA8Bnr5qQr8AbAFjRK55dXcAAAATQZqjSahBbJlMCHf//qmWAACVgQAAAAxBnsFFFSwv/wAAsoAAAAAQAZ7gdEK/AGweTdHbfCrZgQAAAA8BnuJqQr8AbAFjRK55dXcAAAATQZrnSahBbJlMCHf//qmWAACVgQAAABRBnwVFFSwv/wBMoYPXUxD2+Mq1JQAAABABnyR0Qr8AbB5N5Wyh6ShBAAAAEAGfJmpCvwBsAWNe80rNy8EAAAAZQZsrSahBbJlMCHf//qmWAEB+PP5mxTIl9wAAABBBn0lFFSwv/wBNaA5eRRPgAAAAEAGfaHRCvwBpgFM8r8lNn0kAAAAPAZ9qakK/AEWDQPJgi+mAAAAAG0GbbkmoQWyZTAh3//6plgBCEWG6MQ2J/5pWwAAAABJBn4xFFSwr/wBsHaf9HJFU9IEAAAAOAZ+takK/AGwdqua9U9MAAAATQZuySahBbJlMCHf//qmWAACVgQAAAAxBn9BFFSwv/wAAsoAAAAAQAZ/vdEK/AGrzk4jsuyrZgAAAAA8Bn/FqQr8AavOTdZ6s9XcAAAATQZv2SahBbJlMCHf//qmWAACVgAAAAAxBnhRFFSwv/wAAsoAAAAAQAZ4zdEK/AGrzk4jsuyrZgQAAAA8BnjVqQr8AavOTdZ6s9XcAAAATQZo6SahBbJlMCHf//qmWAACVgQAAAAxBnlhFFSwv/wAAsoEAAAAQAZ53dEK/AGrzk4jsuyrZgAAAAA8BnnlqQr8AavOTdZ6s9XcAAAATQZp+SahBbJlMCHf//qmWAACVgAAAAAxBnpxFFSwv/wAAsoEAAAAQAZ67dEK/AGrzk4jsuyrZgQAAAA8Bnr1qQr8AavOTdZ6s9XcAAAATQZqiSahBbJlMCHf//qmWAACVgAAAAAxBnsBFFSwv/wAAsoEAAAAQAZ7/dEK/AGrzk4jsuyrZgAAAAA8BnuFqQr8AavOTdZ6s9XcAAAATQZrmSahBbJlMCHf//qmWAACVgAAAAAxBnwRFFSwv/wAAsoEAAAAQAZ8jdEK/AGrzk4jsuyrZgQAAAA8BnyVqQr8AavOTdZ6s9XcAAAATQZsqSahBbJlMCHf//qmWAACVgQAAAAxBn0hFFSwv/wAAsoAAAAAQAZ9ndEK/AGrzk4jsuyrZgAAAABABn2lqQr8AavOTvZ4+3ZWBAAAAE0GbbkmoQWyZTAh3//6plgAAlYAAAAAMQZ+MRRUsL/8AALKAAAAAEAGfq3RCvwBq85OI7Lsq2YEAAAAPAZ+takK/AGrzk3WerPV3AAAAE0GbskmoQWyZTAh3//6plgAAlYEAAAAMQZ/QRRUsL/8AALKAAAAAEAGf73RCvwBq85OI7Lsq2YAAAAAPAZ/xakK/AGrzk3WerPV3AAAAE0Gb9kmoQWyZTAh3//6plgAAlYAAAAAMQZ4URRUsL/8AALKAAAAAEAGeM3RCvwBq85OI7Lsq2YEAAAAPAZ41akK/AGrzk3WerPV3AAAAEkGaOkmoQWyZTAhv//6nhAABJwAAAAxBnlhFFSwv/wAAsoEAAAAQAZ53dEK/AGrzk4jsuyrZgAAAAA8BnnlqQr8AavOTdZ6s9XcAAAAbQZp9SahBbJlMCG///qeEAMzSJ/quBWp/mjegAAAAEUGem0UVLCv/AKhY7/o5IqlBAAAAEAGevGpCvwCoWEeTA9e29IEAAAAbQZq+SahBbJlMCHf//qmWAKDUgzP/1gP+5WVAAAAAEkGawknhClJlMCHf/qmWAACVgAAAAAxBnuBFNEwv/wAAsoEAAAAPAZ8fdEK/APtUjiOy7KltAAAADwGfAWpCvwD7VI3WerPSbwAAABNBmwZJqEFomUwId//+qZYAAJWAAAAADEGfJEURLC//AACygQAAAA8Bn0N0Qr8A+1SOI7LsqW0AAAAPAZ9FakK/APtUjdZ6s9JvAAAAE0GbSkmoQWyZTAh3//6plgAAlYEAAAAMQZ9oRRUsL/8AALKAAAAADwGfh3RCvwD7VI4jsuypbQAAAA8Bn4lqQr8A+1SN1nqz0m8AAAATQZuOSahBbJlMCHf//qmWAACVgAAAAAxBn6xFFSwv/wAAsoAAAAAPAZ/LdEK/APtUjiOy7KltAAAADwGfzWpCvwD7VI3WerPSbwAAABNBm9JJqEFsmUwId//+qZYAAJWBAAAADEGf8EUVLC//AACygAAAAA8Bng90Qr8A+1SOI7LsqW0AAAAPAZ4RakK/APtUjdZ6s9JvAAAAEkGaFkmoQWyZTAhv//6nhAABJwAAAAxBnjRFFSwv/wAAsoAAAAAPAZ5TdEK/APtUjiOy7KltAAAADwGeVWpCvwD7VI3WerPSbgAAABJBmlpJqEFsmUwIZ//+nhAABH0AAAAMQZ54RRUsL/8AALKBAAAADwGel3RCvwD7VI4jsuypbQAAAA8BnplqQr8A+1SN1nqz0m8AAAAZQZqbSahBbJlMCG///qeEAT346Y/w+rSZNwAAABhBmrxJ4QpSZTAhv/6nhAE1+jmgrWZTWRcAAAAfQZreSeEOiZTBTRMN//6nhAIhjNU1m2kejnzzTS+qmQAAABABnv1qQr8BdbIhNxn16ai4AAAAG0Ga4knhDyZTAhv//qeEAkndT/ZCtUyEe5yYMAAAABBBnwBFETwv/wEW0EdZ87ZhAAAAEAGfP3RCvwFxso4jsuyo+YAAAAAPAZ8hakK/AX8FjRK55dGpAAAAGUGbI0moQWiZTAhv//6nhAIp46Y/w+qU8g4AAAAVQZtHSeEKUmUwIZ/+nhAcfOb64Ym5AAAAE0GfZUU0TC//AbIWin642VuLJTMAAAAQAZ+EdEK/AklisWxsEl4xYQAAABABn4ZqQr8CSK4Ncd+LK7phAAAAG0GbiUuoQhBaJEYIKAfyAf2HgFPCv/44QAARcAAAACQBn6hqQr8Cr2PtQcTdqsNJJt2D39E+hCaqzec8+qdGoUtBKYAAAAxIbW9vdgAAAGxtdmhkAAAAAAAAAAAAAAAAAAAD6AAAH5AAAQAAAQAAAAAAAAAAAAAAAAEAAAAAAAAAAAAAAAAAAAABAAAAAAAAAAAAAAAAAABAAAAAAAAAAAAAAAAAAAAAAAAAAAAAAAAAAAAAAAAAAgAAC3J0cmFrAAAAXHRraGQAAAADAAAAAAAAAAAAAAABAAAAAAAAH5AAAAAAAAAAAAAAAAAAAAAAAAEAAAAAAAAAAAAAAAAAAAABAAAAAAAAAAAAAAAAAABAAAAAARAAAAEQAAAAAAAkZWR0cwAAABxlbHN0AAAAAAAAAAEAAB+QAAAEAAABAAAAAArqbWRpYQAAACBtZGhkAAAAAAAAAAAAAAAAAAAyAAABlABVxAAAAAAALWhkbHIAAAAAAAAAAHZpZGUAAAAAAAAAAAAAAABWaWRlb0hhbmRsZXIAAAAKlW1pbmYAAAAUdm1oZAAAAAEAAAAAAAAAAAAAACRkaW5mAAAAHGRyZWYAAAAAAAAAAQAAAAx1cmwgAAAAAQAAClVzdGJsAAAAlXN0c2QAAAAAAAAAAQAAAIVhdmMxAAAAAAAAAAEAAAAAAAAAAAAAAAAAAAAAARABEABIAAAASAAAAAAAAAABAAAAAAAAAAAAAAAAAAAAAAAAAAAAAAAAAAAAAAAAAAAAGP//AAAAL2F2Y0MB9AAN/+EAF2f0AA2RmygiEdCAAAADAIAAABkHihTLAQAFaOvjxEgAAAAYc3R0cwAAAAAAAAABAAAAygAAAgAAAAAUc3RzcwAAAAAAAAABAAAAAQAABiBjdHRzAAAAAAAAAMIAAAABAAAEAAAAAAEAAAgAAAAAAgAAAgAAAAABAAAKAAAAAAEAAAQAAAAAAQAAAAAAAAABAAACAAAAAAEAAAoAAAAAAQAABAAAAAABAAAAAAAAAAEAAAIAAAAAAQAACgAAAAABAAAEAAAAAAEAAAAAAAAAAQAAAgAAAAABAAAIAAAAAAIAAAIAAAAAAQAABAAAAAABAAAIAAAAAAIAAAIAAAAAAQAABgAAAAABAAACAAAAAAEAAAYAAAAAAQAAAgAAAAABAAAGAAAAAAEAAAIAAAAAAQAACgAAAAABAAAEAAAAAAEAAAAAAAAAAQAAAgAAAAABAAAKAAAAAAEAAAQAAAAAAQAAAAAAAAABAAACAAAAAAEAAAoAAAAAAQAABAAAAAABAAAAAAAAAAEAAAIAAAAAAQAACgAAAAABAAAEAAAAAAEAAAAAAAAAAQAAAgAAAAACAAAEAAAAAAEAAAoAAAAAAQAABAAAAAABAAAAAAAAAAEAAAIAAAAAAQAACgAAAAABAAAEAAAAAAEAAAAAAAAAAQAAAgAAAAABAAAEAAAAAAEAAAoAAAAAAQAABAAAAAABAAAAAAAAAAEAAAIAAAAAAQAACgAAAAABAAAEAAAAAAEAAAAAAAAAAQAAAgAAAAABAAAIAAAAAAIAAAIAAAAAAQAABAAAAAABAAAKAAAAAAEAAAQAAAAAAQAAAAAAAAABAAACAAAAAAEAAAoAAAAAAQAABAAAAAABAAAAAAAAAAEAAAIAAAAAAQAACgAAAAABAAAEAAAAAAEAAAAAAAAAAQAAAgAAAAABAAAKAAAAAAEAAAQAAAAAAQAAAAAAAAABAAACAAAAAAEAAAoAAAAAAQAABAAAAAABAAAAAAAAAAEAAAIAAAAAAQAACgAAAAABAAAEAAAAAAEAAAAAAAAAAQAAAgAAAAABAAAKAAAAAAEAAAQAAAAAAQAAAAAAAAABAAACAAAAAAEAAAoAAAAAAQAABAAAAAABAAAAAAAAAAEAAAIAAAAAAQAACgAAAAABAAAEAAAAAAEAAAAAAAAAAQAAAgAAAAABAAAKAAAAAAEAAAQAAAAAAQAAAAAAAAABAAACAAAAAAEAAAgAAAAAAgAAAgAAAAABAAAKAAAAAAEAAAQAAAAAAQAAAAAAAAABAAACAAAAAAEAAAoAAAAAAQAABAAAAAABAAAAAAAAAAEAAAIAAAAAAQAACgAAAAABAAAEAAAAAAEAAAAAAAAAAQAAAgAAAAABAAAKAAAAAAEAAAQAAAAAAQAAAAAAAAABAAACAAAAAAEAAAoAAAAAAQAABAAAAAABAAAAAAAAAAEAAAIAAAAAAQAACgAAAAABAAAEAAAAAAEAAAAAAAAAAQAAAgAAAAABAAAKAAAAAAEAAAQAAAAAAQAAAAAAAAABAAACAAAAAAEAAAoAAAAAAQAABAAAAAABAAAAAAAAAAEAAAIAAAAAAQAACgAAAAABAAAEAAAAAAEAAAAAAAAAAQAAAgAAAAABAAAKAAAAAAEAAAQAAAAAAQAAAAAAAAABAAACAAAAAAEAAAoAAAAAAQAABAAAAAABAAAAAAAAAAEAAAIAAAAAAQAACAAAAAACAAACAAAAAAEAAAQAAAAAAQAACgAAAAABAAAEAAAAAAEAAAAAAAAAAQAAAgAAAAABAAAKAAAAAAEAAAQAAAAAAQAAAAAAAAABAAACAAAAAAEAAAoAAAAAAQAABAAAAAABAAAAAAAAAAEAAAIAAAAAAQAACgAAAAABAAAEAAAAAAEAAAAAAAAAAQAAAgAAAAABAAAKAAAAAAEAAAQAAAAAAQAAAAAAAAABAAACAAAAAAEAAAoAAAAAAQAABAAAAAABAAAAAAAAAAEAAAIAAAAAAQAACgAAAAABAAAEAAAAAAEAAAAAAAAAAQAAAgAAAAACAAAEAAAAAAEAAAYAAAAAAQAAAgAAAAABAAAKAAAAAAEAAAQAAAAAAQAAAAAAAAABAAACAAAAAAEAAAQAAAAAAQAACgAAAAABAAAEAAAAAAEAAAAAAAAAAQAAAgAAAAABAAAGAAAAAAEAAAIAAAAAHHN0c2MAAAAAAAAAAQAAAAEAAADKAAAAAQAAAzxzdHN6AAAAAAAAAAAAAADKAAAFfgAAABoAAAATAAAAEgAAACQAAAAUAAAAFAAAABMAAAAfAAAAFAAAABIAAAAUAAAAGwAAABIAAAAUAAAAFAAAAB4AAAATAAAAEQAAAB0AAAAhAAAAFgAAABIAAAAWAAAAEwAAABcAAAATAAAAFwAAABMAAAAaAAAAEgAAABQAAAAUAAAAFwAAABAAAAAUAAAAEwAAABYAAAAQAAAAFAAAABMAAAAWAAAAEAAAABQAAAATAAAAHQAAABwAAAAaAAAAEgAAABMAAAATAAAAFgAAABAAAAATAAAAEwAAAB4AAAAlAAAAGQAAABQAAAAUAAAAFgAAABAAAAATAAAAEwAAAB0AAAATAAAAEQAAAB4AAAAaAAAAEgAAABQAAAATAAAAFwAAABAAAAAUAAAAEwAAABcAAAAQAAAAFAAAABMAAAAXAAAAEAAAABQAAAATAAAAFwAAABAAAAAUAAAAEwAAABcAAAAQAAAAFAAAABMAAAAXAAAAEAAAABQAAAATAAAAFwAAABAAAAAUAAAAEwAAABcAAAAYAAAAFAAAABQAAAAdAAAAFAAAABQAAAATAAAAHwAAABYAAAASAAAAFwAAABAAAAAUAAAAEwAAABcAAAAQAAAAFAAAABMAAAAXAAAAEAAAABQAAAATAAAAFwAAABAAAAAUAAAAEwAAABcAAAAQAAAAFAAAABMAAAAXAAAAEAAAABQAAAATAAAAFwAAABAAAAAUAAAAFAAAABcAAAAQAAAAFAAAABMAAAAXAAAAEAAAABQAAAATAAAAFwAAABAAAAAUAAAAEwAAABYAAAAQAAAAFAAAABMAAAAfAAAAFQAAABQAAAAfAAAAFgAAABAAAAATAAAAEwAAABcAAAAQAAAAEwAAABMAAAAXAAAAEAAAABMAAAATAAAAFwAAABAAAAATAAAAEwAAABcAAAAQAAAAEwAAABMAAAAWAAAAEAAAABMAAAATAAAAFgAAABAAAAATAAAAEwAAAB0AAAAcAAAAIwAAABQAAAAfAAAAFAAAABQAAAATAAAAHQAAABkAAAAXAAAAFAAAABQAAAAfAAAAKAAAABRzdGNvAAAAAAAAAAEAAAAwAAAAYnVkdGEAAABabWV0YQAAAAAAAAAhaGRscgAAAAAAAAAAbWRpcmFwcGwAAAAAAAAAAAAAAAAtaWxzdAAAACWpdG9vAAAAHWRhdGEAAAABAAAAAExhdmY1OC4yMC4xMDA=\" type=\"video/mp4\" />\n",
       "             </video>"
      ],
      "text/plain": [
       "<IPython.core.display.HTML object>"
      ]
     },
     "execution_count": 38,
     "metadata": {
      "tags": []
     },
     "output_type": "execute_result"
    }
   ],
   "source": [
    "HTML(display_videos('fc_test9.mp4'))"
   ]
  },
  {
   "cell_type": "markdown",
   "metadata": {
    "colab_type": "text",
    "id": "5ypAOIIdVbmy"
   },
   "source": [
    "> I noticed that CNN is more efficient than fc. "
   ]
  },
  {
   "cell_type": "markdown",
   "metadata": {
    "colab_type": "text",
    "id": "FAEVQ5tMVbmz"
   },
   "source": [
    "***\n",
    "\n",
    "The algorithm tends to not explore the map which can be an issue. We propose two ideas in order to encourage exploration:\n",
    "1. Incorporating a decreasing $\\epsilon$-greedy exploration. You can use the method ```set_epsilon```\n",
    "2. Append via the environment a new state that describes if a cell has been visited or not\n",
    "\n",
    "***\n",
    "__Question 10__ Design a new ```train_explore``` function and environment class ```EnvironmentExploring``` to tackle the issue of exploration.\n",
    "\n"
   ]
  },
  {
   "cell_type": "code",
   "execution_count": 0,
   "metadata": {
    "colab": {},
    "colab_type": "code",
    "id": "IBv7xXM1Vbmz"
   },
   "outputs": [],
   "source": [
    "def train_explore(agent,env,epoch,prefix=''):\n",
    "\n",
    "    score = 0\n",
    "    loss = 0\n",
    "\n",
    "    for e in range(epoch):\n",
    "        # At each epoch, we restart to a fresh game and get the initial state\n",
    "        state = env.reset()\n",
    "        # This assumes that the games will terminate\n",
    "        game_over = False\n",
    "\n",
    "        win = 0\n",
    "        lose = 0\n",
    "        \n",
    "        # Set decreasing epsilon\n",
    "        agent.set_epsilon(agent.epsilon*0.95)\n",
    "        \n",
    "        while not game_over:\n",
    "            # The agent performs an action\n",
    "            action = agent.act(state)\n",
    "\n",
    "            # Apply an action to the environment, get the next state, the reward\n",
    "            # and if the games end\n",
    "            prev_state = state\n",
    "            state, reward, game_over = env.act(action)\n",
    "\n",
    "            # Update the counters\n",
    "            if reward > 0:\n",
    "                win = win + reward\n",
    "            if reward < 0:\n",
    "                lose = lose -reward\n",
    "\n",
    "            # Apply the reinforcement strategy\n",
    "            loss = agent.reinforce(prev_state, state,  action, reward, game_over)\n",
    "\n",
    "        # Save as a mp4\n",
    "        if e % 10 == 0:\n",
    "            env.draw(prefix+str(e))\n",
    "\n",
    "        # Update stats\n",
    "        score += win-lose\n",
    "\n",
    "        print(\"Epoch {:03d}/{:03d} | Loss {:.4f} | Win/lose count {}/{} ({})\"\n",
    "              .format(e, epoch, loss, win, lose, win-lose))\n",
    "        agent.save(name_weights=prefix+'model.h5',name_model=prefix+'model.json')\n",
    "        \n",
    "class EnvironmentExploring(object):\n",
    "    def __init__(self, grid_size=10, max_time=500, temperature=0.1):\n",
    "        pass\n",
    "    \n",
    "## use those samples of code:\n",
    "#In train explore:\n",
    "state, reward, game_over = env.act(action, train=True)\n",
    "\n",
    "## In Environment exploring:\n",
    "# You will have to change n_state to 3 because you will use one more layer!\n",
    "reward = 0\n",
    "if train:\n",
    "    reward = -self.malus_position[self.x, self.y]\n",
    "self.malus_position[self.x, self.y] = 0.1\n",
    "\n",
    "reward = reward + self.board[self.x, self.y]\n",
    "# 3 \"feature\" states instead of 2\n",
    "state = np.concatenate((self.malus_position.reshape(self.grid_size, self.grid_size,1),\n",
    "                                self.board.reshape(self.grid_size, self.grid_size,1),\n",
    "                        self.position.reshape(self.grid_size, self.grid_size,1)),axis=2)"
   ]
  },
  {
   "cell_type": "code",
   "execution_count": 0,
   "metadata": {
    "colab": {},
    "colab_type": "code",
    "id": "4x662o-3Vbm2"
   },
   "outputs": [],
   "source": [
    "# Training\n",
    "env = EnvironmentExploring(grid_size=size, max_time=T, temperature=0.3)\n",
    "agent = DQN_CNN(size, lr=.1, epsilon = 0.1, memory_size=2000, batch_size = 32,n_state=3)\n",
    "train_explore(agent, env, epochs_train, prefix='cnn_train_explore')\n",
    "HTML(display_videos('cnn_train_explore10.mp4'))"
   ]
  },
  {
   "cell_type": "code",
   "execution_count": 0,
   "metadata": {
    "colab": {},
    "colab_type": "code",
    "id": "rR2OpT27Vbm5"
   },
   "outputs": [],
   "source": [
    "# Evaluation\n",
    "test(agent,env,epochs_test,prefix='cnn_test_explore')\n",
    "HTML(display_videos('cnn_test_explore10.mp4'))"
   ]
  },
  {
   "cell_type": "markdown",
   "metadata": {
    "colab_type": "text",
    "id": "AkeMDUs_Vbm7"
   },
   "source": [
    "***\n",
    "***\n",
    "__BONUS question__ Use the expert DQN from the previous question to generate some winning games. Train a model that mimicks its behavior. Compare the performances."
   ]
  },
  {
   "cell_type": "markdown",
   "metadata": {
    "colab_type": "text",
    "id": "3ggDtW3BVbm9"
   },
   "source": []
  },
  {
   "cell_type": "markdown",
   "metadata": {
    "colab_type": "text",
    "id": "SFwfi8mNVbm9"
   },
   "source": [
    "***"
   ]
  }
 ],
 "metadata": {
  "accelerator": "GPU",
  "colab": {
   "name": "DQN_project_MVA_BOUJNOUNI.ipynb",
   "provenance": [],
   "version": "0.3.2"
  },
  "kernelspec": {
   "display_name": "Python 3",
   "language": "python",
   "name": "python3"
  },
  "language_info": {
   "codemirror_mode": {
    "name": "ipython",
    "version": 3
   },
   "file_extension": ".py",
   "mimetype": "text/x-python",
   "name": "python",
   "nbconvert_exporter": "python",
   "pygments_lexer": "ipython3",
   "version": "3.7.2"
  }
 },
 "nbformat": 4,
 "nbformat_minor": 1
}
