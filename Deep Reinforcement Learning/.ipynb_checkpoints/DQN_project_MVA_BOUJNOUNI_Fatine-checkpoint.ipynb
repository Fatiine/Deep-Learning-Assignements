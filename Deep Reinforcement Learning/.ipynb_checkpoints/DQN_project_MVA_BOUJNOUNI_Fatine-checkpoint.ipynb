{
 "cells": [
  {
   "cell_type": "markdown",
   "metadata": {
    "colab_type": "text",
    "id": "W9c2rNgaVbka"
   },
   "source": [
    "**You may need to install [OpenCV](https://pypi.python.org/pypi/opencv-python) and [scikit-video](http://www.scikit-video.org/stable/).**"
   ]
  },
  {
   "cell_type": "code",
   "execution_count": 1,
   "metadata": {
    "colab": {
     "base_uri": "https://localhost:8080/",
     "height": 34
    },
    "colab_type": "code",
    "id": "0UsBbqHRVbkh",
    "outputId": "10b527b8-af25-4347-c2ae-8e9b52a6a95a"
   },
   "outputs": [
    {
     "name": "stderr",
     "output_type": "stream",
     "text": [
      "Using TensorFlow backend.\n"
     ]
    }
   ],
   "source": [
    "import keras\n",
    "import numpy as np\n",
    "import io\n",
    "import base64\n",
    "from IPython.display import HTML\n",
    "import skvideo.io\n",
    "import cv2\n",
    "import json\n",
    "\n",
    "from keras.models import Sequential,model_from_json\n",
    "from keras.layers.core import Dense\n",
    "from keras.optimizers import sgd\n",
    "from keras.layers import Conv2D, MaxPooling2D, Activation, AveragePooling2D,Reshape,BatchNormalization, Dropout, Flatten"
   ]
  },
  {
   "cell_type": "markdown",
   "metadata": {
    "colab_type": "text",
    "id": "eH_NyZQZVbkx"
   },
   "source": [
    "# MiniProject #3: Deep Reinforcement Learning"
   ]
  },
  {
   "cell_type": "markdown",
   "metadata": {
    "colab_type": "text",
    "id": "9Dcqt0MfVbk2"
   },
   "source": [
    "__Notations__: $E_p$ is the expectation under probability $p$. Please justify each of your answer and widely comment your code."
   ]
  },
  {
   "cell_type": "markdown",
   "metadata": {
    "colab_type": "text",
    "id": "8K2zd6cSVbk6"
   },
   "source": [
    "# Context"
   ]
  },
  {
   "cell_type": "markdown",
   "metadata": {
    "colab_type": "text",
    "id": "C62RkL4mVbk9"
   },
   "source": [
    "In a reinforcement learning algorithm, we modelize each step $t$ as an action $a_t$ obtained from a state $s_t$, i.e. $\\{(a_{t},s_{t})_{t\\leq T}\\}$ having the Markov property. We consider a discount factor $\\gamma \\in [0,1]$ that ensures convergence. The goal is to find among all the policies $\\pi$, one that maximizes the expected reward:\n",
    "\n",
    "\\begin{equation*}\n",
    "R(\\pi)=\\sum_{t\\leq T}E_{p^{\\pi}}[\\gamma^t r(s_{t},a_{t})] \\> ,\n",
    "\\end{equation*}\n",
    "\n",
    "where: \n",
    "\\begin{equation*}p^{\\pi}(a_{0},a_{1},s_{1},...,a_{T},s_{T})=p(a_{0})\\prod_{t=1}^{T}\\pi(a_{t}|s_{t})p(s_{t+1}|s_{t},a_{t}) \\> .\n",
    "\\end{equation*}\n",
    "\n",
    "We note the $Q$-function:\n",
    "\n",
    "\\begin{equation*}Q^\\pi(s,a)=E_{p^{\\pi}}[\\sum_{t\\leq T}\\gamma^{t}r(s_{t},a_{t})|s_{0}=s,a_{0}=a] \\> .\n",
    "\\end{equation*}\n",
    "\n",
    "Thus, the optimal Q function is:\n",
    "\\begin{equation*}\n",
    "Q^*(s,a)=\\max_{\\pi}Q^\\pi(s,a) \\> .\n",
    "\\end{equation*}\n",
    "\n",
    "In this project, we will apply the deep reinforcement learning techniques to a simple game: an agent will have to learn from scratch a policy that will permit it maximizing a reward."
   ]
  },
  {
   "cell_type": "markdown",
   "metadata": {
    "colab_type": "text",
    "id": "hgRrkYXEVbk_"
   },
   "source": [
    "## The environment, the agent and the game"
   ]
  },
  {
   "cell_type": "markdown",
   "metadata": {
    "colab_type": "text",
    "id": "_iHO8GHiVblB"
   },
   "source": [
    "### The environment"
   ]
  },
  {
   "cell_type": "markdown",
   "metadata": {
    "colab_type": "text",
    "id": "22bULm3yVblE"
   },
   "source": [
    "```Environment``` is an abstract class that represents the states, rewards, and actions to obtain the new state."
   ]
  },
  {
   "cell_type": "code",
   "execution_count": 2,
   "metadata": {
    "colab": {},
    "colab_type": "code",
    "id": "iuapwiSzVblH"
   },
   "outputs": [],
   "source": [
    "class Environment(object):\n",
    "    def __init__(self):\n",
    "        pass\n",
    "\n",
    "    def act(self, act):\n",
    "        \"\"\"\n",
    "        One can act on the environment and obtain its reaction:\n",
    "        - the new state\n",
    "        - the reward of the new state\n",
    "        - should we continue the game?\n",
    "\n",
    "        :return: state, reward, game_over\n",
    "        \"\"\"\n",
    "        pass\n",
    "\n",
    "\n",
    "    def reset(self):\n",
    "        \"\"\"\n",
    "        Reinitialize the environment to a random state and returns\n",
    "        the original state\n",
    "\n",
    "        :return: state\n",
    "        \"\"\"\n",
    "        pass\n",
    "    \n",
    "    def draw(self):\n",
    "        \"\"\"\n",
    "        Visualize in the console or graphically the current state\n",
    "        \"\"\"\n",
    "        pass"
   ]
  },
  {
   "cell_type": "markdown",
   "metadata": {
    "colab_type": "text",
    "id": "QRGTyloaVblN"
   },
   "source": [
    "The method ```act``` allows to act on the environment at a given state $s_t$ (stored internally), via action $a_t$. The method will return the new state $s_{t+1}$, the reward $r(s_{t},a_{t})$ and determines if $t\\leq T$ (*game_over*).\n",
    "\n",
    "The method ```reset``` simply reinitializes the environment to a random state $s_0$.\n",
    "\n",
    "The method ```draw``` displays the current state $s_t$ (this is useful to check the behavior of the Agent).\n",
    "\n",
    "We modelize $s_t$ as a tensor, while $a_t$ is an integer."
   ]
  },
  {
   "cell_type": "markdown",
   "metadata": {
    "colab_type": "text",
    "id": "bdJyX4tiVblQ"
   },
   "source": [
    "### The Agent"
   ]
  },
  {
   "cell_type": "markdown",
   "metadata": {
    "colab_type": "text",
    "id": "NL1HJDQTVblR"
   },
   "source": [
    "The goal of the ```Agent``` is to interact with the ```Environment``` by proposing actions $a_t$ obtained from a given state $s_t$ to attempt to maximize its __reward__ $r(s_t,a_t)$. We propose the following abstract class:"
   ]
  },
  {
   "cell_type": "code",
   "execution_count": 3,
   "metadata": {
    "colab": {},
    "colab_type": "code",
    "id": "fgp72jA3VblT"
   },
   "outputs": [],
   "source": [
    "class Agent(object):\n",
    "    def __init__(self, epsilon=0.1, n_action=4):\n",
    "        self.epsilon = epsilon\n",
    "        self.n_action = n_action\n",
    "    \n",
    "    def set_epsilon(self,e):\n",
    "        self.epsilon = e\n",
    "\n",
    "    def act(self,s,train=True):\n",
    "        \"\"\" This function should return the next action to do:\n",
    "        an integer between 0 and 4 (not included) with a random exploration of epsilon\"\"\"\n",
    "        if train:\n",
    "            if np.random.rand() <= self.epsilon:\n",
    "                a = np.random.randint(0, self.n_action, size=1)[0]\n",
    "            else:\n",
    "                a = self.learned_act(s)\n",
    "        else: # in some cases, this can improve the performance.. remove it if poor performances\n",
    "            a = self.learned_act(s)\n",
    "\n",
    "        return a\n",
    "\n",
    "    def learned_act(self,s):\n",
    "        \"\"\" Act via the policy of the agent, from a given state s\n",
    "        it proposes an action a\"\"\"\n",
    "        pass\n",
    "\n",
    "    def reinforce(self, s, n_s, a, r, game_over_):\n",
    "        \"\"\" This function is the core of the learning algorithm. \n",
    "        It takes as an input the current state s_, the next state n_s_\n",
    "        the action a_ used to move from s_ to n_s_ and the reward r_.\n",
    "        \n",
    "        Its goal is to learn a policy.\n",
    "        \"\"\"\n",
    "        pass\n",
    "\n",
    "    def save(self):\n",
    "        \"\"\" This function returns basic stats if applicable: the\n",
    "        loss and/or the model\"\"\"\n",
    "        pass\n",
    "\n",
    "    def load(self):\n",
    "        \"\"\" This function allows to restore a model\"\"\"\n",
    "        pass"
   ]
  },
  {
   "cell_type": "markdown",
   "metadata": {
    "colab_type": "text",
    "id": "avdhlp1tVblZ"
   },
   "source": [
    "***\n",
    "__Question 1__:\n",
    "Explain the function act. Why is ```epsilon``` essential?"
   ]
  },
  {
   "cell_type": "markdown",
   "metadata": {
    "colab_type": "text",
    "id": "iC9KwD9xVbla"
   },
   "source": [
    "> In the training part of the function `act`, the algorithm explores new actions with a probability `epsilon`. So the `epsilon` controls the explore/exploit paradigm.\n",
    "In the training part, the algorithm would have tested enough new actions to decide which ones are good for improving the policy and maximizing the reward. "
   ]
  },
  {
   "cell_type": "markdown",
   "metadata": {
    "colab_type": "text",
    "id": "3T-_7GNRVblb"
   },
   "source": [
    "***\n",
    "### The Game"
   ]
  },
  {
   "cell_type": "markdown",
   "metadata": {
    "colab_type": "text",
    "id": "mSsisANOVbld"
   },
   "source": [
    "The ```Agent``` and the ```Environment``` work in an interlaced way as in the following (take some time to understand this code as it is the core of the project)\n",
    "\n",
    "```python\n",
    "\n",
    "epoch = 300\n",
    "env = Environment()\n",
    "agent = Agent()\n",
    "\n",
    "\n",
    "# Number of won games\n",
    "score = 0\n",
    "loss = 0\n",
    "\n",
    "\n",
    "for e in range(epoch):\n",
    "    # At each epoch, we restart to a fresh game and get the initial state\n",
    "    state = env.reset()\n",
    "    # This assumes that the games will end\n",
    "    game_over = False\n",
    "\n",
    "    win = 0\n",
    "    lose = 0\n",
    "    \n",
    "    while not game_over:\n",
    "        # The agent performs an action\n",
    "        action = agent.act(state)\n",
    "\n",
    "        # Apply an action to the environment, get the next state, the reward\n",
    "        # and if the games end\n",
    "        prev_state = state\n",
    "        state, reward, game_over = env.act(action)\n",
    "\n",
    "        # Update the counters\n",
    "        if reward > 0:\n",
    "            win = win + reward\n",
    "        if reward < 0:\n",
    "            lose = lose -reward\n",
    "\n",
    "        # Apply the reinforcement strategy\n",
    "        loss = agent.reinforce(prev_state, state,  action, reward, game_over)\n",
    "\n",
    "    # Save as a mp4\n",
    "    if e % 10 == 0:\n",
    "        env.draw(e)\n",
    "\n",
    "    # Update stats\n",
    "    score += win-lose\n",
    "\n",
    "    print(\"Epoch {:03d}/{:03d} | Loss {:.4f} | Win/lose count {}/{} ({})\"\n",
    "          .format(e, epoch, loss, win, lose, win-lose))\n",
    "    agent.save()\n",
    "```"
   ]
  },
  {
   "cell_type": "markdown",
   "metadata": {
    "colab_type": "text",
    "id": "Syb_7reAVble"
   },
   "source": [
    "# The game, *eat cheese*"
   ]
  },
  {
   "cell_type": "markdown",
   "metadata": {
    "colab_type": "text",
    "id": "5xjxPpDcVblf"
   },
   "source": [
    "A rat runs on an island and tries to eat as much as possible. The island is subdivided into $N\\times N$ cells, in which there are cheese (+0.5) and poisonous cells (-1). The rat has a visibility of 2 cells (thus it can see $5^2$ cells). The rat is given a time $T$ to accumulate as much food as possible. It can perform 4 actions: going up, down, left, right. \n",
    "\n",
    "The goal is to code an agent to solve this task that will learn by trial and error. We propose the following environment:"
   ]
  },
  {
   "cell_type": "code",
   "execution_count": 4,
   "metadata": {
    "colab": {},
    "colab_type": "code",
    "id": "nSIJ_vo9Vblh"
   },
   "outputs": [],
   "source": [
    "class Environment(object):\n",
    "    def __init__(self, grid_size=10, max_time=500, temperature=0.1):\n",
    "        grid_size = grid_size+4\n",
    "        self.grid_size = grid_size\n",
    "        self.max_time = max_time\n",
    "        self.temperature = temperature\n",
    "\n",
    "        #board on which one plays\n",
    "        self.board = np.zeros((grid_size,grid_size))\n",
    "        self.position = np.zeros((grid_size,grid_size))\n",
    "\n",
    "        # coordinate of the cat\n",
    "        self.x = 0\n",
    "        self.y = 1\n",
    "\n",
    "        # self time\n",
    "        self.t = 0\n",
    "\n",
    "        self.scale=16\n",
    "\n",
    "        self.to_draw = np.zeros((max_time+2, grid_size*self.scale, grid_size*self.scale, 3))\n",
    "\n",
    "\n",
    "    def draw(self,e):\n",
    "        skvideo.io.vwrite(str(e) + '.mp4', self.to_draw)\n",
    "\n",
    "    def get_frame(self,t):\n",
    "        b = np.zeros((self.grid_size,self.grid_size,3))+128\n",
    "        b[self.board>0,0] = 256\n",
    "        b[self.board < 0, 2] = 256\n",
    "        b[self.x,self.y,:]=256\n",
    "        b[-2:,:,:]=0\n",
    "        b[:,-2:,:]=0\n",
    "        b[:2,:,:]=0\n",
    "        b[:,:2,:]=0\n",
    "        \n",
    "        b =  cv2.resize(b, None, fx=self.scale, fy=self.scale, interpolation=cv2.INTER_NEAREST)\n",
    "\n",
    "        self.to_draw[t,:,:,:]=b\n",
    "\n",
    "\n",
    "    def act(self, action):\n",
    "        \"\"\"This function returns the new state, reward and decides if the\n",
    "        game ends.\"\"\"\n",
    "\n",
    "        self.get_frame(int(self.t))\n",
    "\n",
    "        self.position = np.zeros((self.grid_size, self.grid_size))\n",
    "\n",
    "        self.position[0:2,:]= -1\n",
    "        self.position[:,0:2] = -1\n",
    "        self.position[-2:, :] = -1\n",
    "        self.position[-2:, :] = -1\n",
    "\n",
    "        self.position[self.x, self.y] = 1\n",
    "        if action == 0:\n",
    "            if self.x == self.grid_size-3:\n",
    "                self.x = self.x-1\n",
    "            else:\n",
    "                self.x = self.x + 1\n",
    "        elif action == 1:\n",
    "            if self.x == 2:\n",
    "                self.x = self.x+1\n",
    "            else:\n",
    "                self.x = self.x-1\n",
    "        elif action == 2:\n",
    "            if self.y == self.grid_size - 3:\n",
    "                self.y = self.y - 1\n",
    "            else:\n",
    "                self.y = self.y + 1\n",
    "        elif action == 3:\n",
    "            if self.y == 2:\n",
    "                self.y = self.y + 1\n",
    "            else:\n",
    "                self.y = self.y - 1\n",
    "        else:\n",
    "            RuntimeError('Error: action not recognized')\n",
    "\n",
    "        self.t = self.t + 1\n",
    "        reward = self.board[self.x, self.y]\n",
    "        self.board[self.x, self.y] = 0\n",
    "        game_over = self.t > self.max_time\n",
    "        state = np.concatenate((self.board.reshape(self.grid_size, self.grid_size,1),\n",
    "                        self.position.reshape(self.grid_size, self.grid_size,1)),axis=2)\n",
    "        state = state[self.x-2:self.x+3,self.y-2:self.y+3,:]\n",
    "\n",
    "        return state, reward, game_over\n",
    "\n",
    "    def reset(self):\n",
    "        \"\"\"This function resets the game and returns the initial state\"\"\"\n",
    "\n",
    "        self.x = np.random.randint(3, self.grid_size-3, size=1)[0]\n",
    "        self.y = np.random.randint(3, self.grid_size-3, size=1)[0]\n",
    "\n",
    "\n",
    "        bonus = 0.5*np.random.binomial(1,self.temperature,size=self.grid_size**2)\n",
    "        bonus = bonus.reshape(self.grid_size,self.grid_size)\n",
    "\n",
    "        malus = -1.0*np.random.binomial(1,self.temperature,size=self.grid_size**2)\n",
    "        malus = malus.reshape(self.grid_size, self.grid_size)\n",
    "\n",
    "        self.to_draw = np.zeros((self.max_time+2, self.grid_size*self.scale, self.grid_size*self.scale, 3))\n",
    "\n",
    "\n",
    "        malus[bonus>0]=0\n",
    "\n",
    "        self.board = bonus + malus\n",
    "\n",
    "        self.position = np.zeros((self.grid_size, self.grid_size))\n",
    "        self.position[0:2,:]= -1\n",
    "        self.position[:,0:2] = -1\n",
    "        self.position[-2:, :] = -1\n",
    "        self.position[-2:, :] = -1\n",
    "        self.board[self.x,self.y] = 0\n",
    "        self.t = 0\n",
    "\n",
    "        state = np.concatenate((\n",
    "                               self.board.reshape(self.grid_size, self.grid_size,1),\n",
    "                        self.position.reshape(self.grid_size, self.grid_size,1)),axis=2)\n",
    "\n",
    "        state = state[self.x - 2:self.x + 3, self.y - 2:self.y + 3, :]\n",
    "        return state"
   ]
  },
  {
   "cell_type": "markdown",
   "metadata": {
    "colab_type": "text",
    "id": "YiiIvJEgVbll"
   },
   "source": [
    "The following elements are important because they correspond to the hyper parameters for this project:"
   ]
  },
  {
   "cell_type": "code",
   "execution_count": 5,
   "metadata": {
    "colab": {},
    "colab_type": "code",
    "id": "5gt61ssFVblo"
   },
   "outputs": [],
   "source": [
    "# parameters\n",
    "size = 13\n",
    "T=200\n",
    "temperature=0.3\n",
    "epochs_train=40 # set small when debugging\n",
    "epochs_test=11 # set small when debugging\n",
    "\n",
    "# display videos\n",
    "def display_videos(name):\n",
    "    video = io.open(name, 'r+b').read()\n",
    "    encoded = base64.b64encode(video)\n",
    "    return '''<video alt=\"test\" controls>\n",
    "                <source src=\"data:video/mp4;base64,{0}\" type=\"video/mp4\" />\n",
    "             </video>'''.format(encoded.decode('ascii'))"
   ]
  },
  {
   "cell_type": "markdown",
   "metadata": {
    "colab_type": "text",
    "id": "mRXd660BVbls"
   },
   "source": [
    "__Question 2__ Explain the use of the arrays ```position``` and ```board```."
   ]
  },
  {
   "cell_type": "markdown",
   "metadata": {
    "colab_type": "text",
    "id": "jC6ooVfiVblt"
   },
   "source": [
    "> \n",
    "- The array `position` is used to store the position ot the rat. It is a grid that contains -1 in the borders, 1 in the rat position and 0 elsewhere.\n",
    "- The array `board` is used to describe the content of the island at each time t. It is seen as a reward in each square. It has a value -1 for poison, +0.5 for cheese and 0 elsewhere."
   ]
  },
  {
   "cell_type": "markdown",
   "metadata": {
    "colab_type": "text",
    "id": "CdOXeD09Vblu"
   },
   "source": [
    "## Random Agent"
   ]
  },
  {
   "cell_type": "markdown",
   "metadata": {
    "colab_type": "text",
    "id": "tmLRR5exVblv"
   },
   "source": [
    "***\n",
    "__Question 3__ Implement a random Agent (only ```learned_act``` needs to be implemented):"
   ]
  },
  {
   "cell_type": "code",
   "execution_count": 6,
   "metadata": {
    "colab": {},
    "colab_type": "code",
    "id": "rF8GByxEVblw"
   },
   "outputs": [],
   "source": [
    "class RandomAgent(Agent):\n",
    "    def __init__(self):\n",
    "        super(RandomAgent, self).__init__()\n",
    "        pass\n",
    "\n",
    "    def learned_act(self, s):\n",
    "        return int(np.random.rand()*4)"
   ]
  },
  {
   "cell_type": "markdown",
   "metadata": {
    "colab_type": "text",
    "id": "bbjkm6NRVblz"
   },
   "source": [
    "***\n",
    "***\n",
    "__Question 4__ Visualize the game moves. You need to fill in the following function for the evaluation:"
   ]
  },
  {
   "cell_type": "code",
   "execution_count": 7,
   "metadata": {
    "colab": {},
    "colab_type": "code",
    "id": "mN_hNUOhVbl0"
   },
   "outputs": [],
   "source": [
    "def test(agent,env,epochs,prefix=''):\n",
    "    # Number of won games\n",
    "    score = 0\n",
    "        \n",
    "    for e in range(epochs):\n",
    "        \n",
    "        ##### FILL IN HERE\n",
    "        # initial state\n",
    "        state = env.reset()\n",
    "        game_over = False\n",
    "        win = 0\n",
    "        lose = 0\n",
    "\n",
    "        while not game_over:\n",
    "            # perform an action\n",
    "            action = agent.act(state)\n",
    "            prev_state = state\n",
    "            state, reward, game_over = env.act(action)\n",
    "\n",
    "            if reward > 0:\n",
    "                win = win + reward\n",
    "            if reward < 0:\n",
    "                lose = lose -reward\n",
    "        \n",
    "        # Save as a mp4\n",
    "        env.draw(prefix+str(e))\n",
    "\n",
    "        # Update stats\n",
    "        score = score + win-lose\n",
    "\n",
    "        print(\"Win/lose count {}/{}. Average score ({})\"\n",
    "              .format(win, lose, score/(1+e)))\n",
    "    print('Final score: '+str(score/epochs))"
   ]
  },
  {
   "cell_type": "code",
   "execution_count": 8,
   "metadata": {
    "colab": {
     "base_uri": "https://localhost:8080/",
     "height": 528
    },
    "colab_type": "code",
    "id": "Kh_37_8vVbl3",
    "outputId": "289dc5b4-8bdc-488e-8577-e877d17bb83b"
   },
   "outputs": [
    {
     "name": "stdout",
     "output_type": "stream",
     "text": [
      "Win/lose count 7.0/27.0. Average score (-20.0)\n",
      "Win/lose count 6.0/9.0. Average score (-11.5)\n",
      "Win/lose count 8.5/15.0. Average score (-9.833333333333334)\n",
      "Win/lose count 7.0/13.0. Average score (-8.875)\n",
      "Win/lose count 10.0/15.0. Average score (-8.1)\n",
      "Win/lose count 10.0/9.0. Average score (-6.583333333333333)\n",
      "Win/lose count 13.0/18.0. Average score (-6.357142857142857)\n",
      "Win/lose count 10.5/12.0. Average score (-5.75)\n",
      "Win/lose count 13.5/14.0. Average score (-5.166666666666667)\n",
      "Win/lose count 15.0/10.0. Average score (-4.15)\n",
      "Win/lose count 8.0/14.0. Average score (-4.318181818181818)\n",
      "Final score: -4.318181818181818\n"
     ]
    },
    {
     "data": {
      "text/html": [
       "<video alt=\"test\" controls>\n",
       "                <source src=\"data:video/mp4;base64,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\" type=\"video/mp4\" />\n",
       "             </video>"
      ],
      "text/plain": [
       "<IPython.core.display.HTML object>"
      ]
     },
     "execution_count": 8,
     "metadata": {},
     "output_type": "execute_result"
    }
   ],
   "source": [
    "# Initialize the game\n",
    "env = Environment(grid_size=size, max_time=T,temperature=temperature)\n",
    "\n",
    "# Initialize the agent!\n",
    "agent = RandomAgent()\n",
    "\n",
    "test(agent,env,epochs_test,prefix='random')\n",
    "HTML(display_videos('random0.mp4'))"
   ]
  },
  {
   "cell_type": "markdown",
   "metadata": {
    "colab_type": "text",
    "id": "qY4vKadJVbmA"
   },
   "source": [
    "***\n",
    "## DQN"
   ]
  },
  {
   "cell_type": "markdown",
   "metadata": {
    "colab_type": "text",
    "id": "W-O5wCOVVbmC"
   },
   "source": [
    "Let us assume here that $T=\\infty$.\n",
    "\n",
    "***\n",
    "__Question 5__ Let $\\pi$ be a policy, show that:\n",
    "\n",
    "\\begin{equation*}\n",
    "Q^{\\pi}(s,a)=E_{(s',a')\\sim p(.|s,a)}[r(s,a)+\\gamma Q^{\\pi}(s',a')]\n",
    "\\end{equation*}\n",
    "\n",
    "Then, show that for the optimal policy $\\pi^*$ (we assume its existence), the following holds: \n",
    "\n",
    "\\begin{equation*}\n",
    "Q^{*}(s,a)=E_{s'\\sim \\pi^*(.|s,a)}[r(s,a)+\\gamma\\max_{a'}Q^{*}(s',a')].\n",
    "\\end{equation*}\n",
    "Finally, deduce that a plausible objective is:\n",
    "\n",
    "\\begin{equation*}\n",
    "\\mathcal{L}(\\theta)=E_{s' \\sim \\pi^*(.|s,a)}\\Vert r+\\gamma\\max\\max_{a'}Q(s',a',\\theta)-Q(s,a,\\theta)\\Vert^{2}.\n",
    "\\end{equation*}\n",
    "\n",
    "\n"
   ]
  },
  {
   "cell_type": "markdown",
   "metadata": {
    "colab_type": "text",
    "id": "GIJ7nsnJVbmE"
   },
   "source": [
    "> - Let's show that :\n",
    "\\begin{equation*}\n",
    "Q^{\\pi}(s,a)=\\mathbb{E}_{(s',a')\\sim p(.|s,a)}[r(s,a)+\\gamma Q^{\\pi}(s',a')]\n",
    "\\end{equation*}\n",
    "We have : \n",
    "\\begin{align*}\n",
    "Q^{\\pi}(s,a) &= \\mathbb{E}_{p^{\\pi}}[\\sum_{t=0}^{+ \\infty}\\gamma^{t}r(s_{t},a_{t})|s_{0}=s,a_{0}=a] \\\\\n",
    "&= \\mathbb{E}_{p^{\\pi}}[r(s,a) + \\gamma \\sum_{t=1}^{+ \\infty}\\gamma^{t-1}r(s_{t},a_{t})|s_{0}=s,a_{0}=a] \\\\\n",
    "&= \\mathbb{E}_{p^{\\pi}}[r(s,a) + \\gamma \\sum_{t=0}^{+ \\infty}\\gamma^{t}r(s_{t+1},a_{t+1})|s_{0}=s,a_{0}=a] \\\\\n",
    "&= \\mathbb{E}_{p^{\\pi}}[r(s,a) + \\gamma Q^{\\pi}(s',a')|s_{0}=s,a_{0}=a] \\\\\n",
    "&= \\mathbb{E}_{(s',a')\\sim p(.|s,a)}[r(s,a)+\\gamma Q^{\\pi}(s',a')] \\\\\n",
    "\\end{align*}\n",
    "\n",
    "\n",
    ">- Let's show that :\n",
    "\\begin{equation*}\n",
    "Q^{*}(s,a)=E_{s'\\sim \\pi^*(.|s,a)}[r(s,a)+\\gamma\\max_{a'}Q^{*}(s',a')]\n",
    "\\end{equation*}\n",
    "Let's set the optimal Q function : \n",
    "\\begin{equation*}\n",
    "Q^*(s,a)=\\max_{\\pi}Q^\\pi(s,a) \\> \n",
    "\\end{equation*}\n",
    "Using the previous equation we obtain:\n",
    "\\begin{equation*}\n",
    "Q^{*}(s,a)=E_{s'\\sim \\pi^*(.|s,a)}[r(s,a)+\\gamma\\max_{a'}Q^{*}(s',a')]\n",
    "\\end{equation*}\n",
    "\n",
    "\n",
    "\n",
    ">- Let's show that :\n",
    "\\begin{equation*}\n",
    "\\mathcal{L}(\\theta)=E_{s' \\sim \\pi^*(.|s,a)}\\Vert r+\\gamma\\max\\max_{a'}Q(s',a',\\theta)-Q(s,a,\\theta)\\Vert^{2}\n",
    "\\end{equation*}\n",
    "We consider  as a target the following expression :\n",
    "\\begin{equation*}\n",
    "r(s,a)+\\gamma\\max_{a'}Q^{*}(s',a',\\theta)\n",
    "\\end{equation*}\n",
    "And we minimise MSE loss using stochastic gradient descent.\n",
    "The objective is then:\n",
    "\\begin{equation*}\n",
    "\\mathcal{L}(\\theta)=\\mathbb{E}_{s' \\sim \\pi^*(.|s,a)}\\Vert r+\\gamma\\max_{a'}Q(s',a',\\theta)-Q(s,a,\\theta)\\Vert^{2}.\n",
    "\\end{equation*}"
   ]
  },
  {
   "cell_type": "markdown",
   "metadata": {
    "colab_type": "text",
    "id": "sd4Nm58kVbmG"
   },
   "source": [
    "***\n",
    "The DQN-learning algorithm relies on these derivations to train the parameters $\\theta$ of a Deep Neural Network:\n",
    "\n",
    "1. At the state $s_t$, select the action $a_t$ with best reward using $Q_t$ and store the results;\n",
    "\n",
    "2. Obtain the new state $s_{t+1}$ from the environment $p$;\n",
    "\n",
    "3. Store $(s_t,a_t,s_{t+1})$;\n",
    "\n",
    "4. Obtain $Q_{t+1}$ by minimizing  $\\mathcal{L}$ from a recovered batch from the previously stored results.\n",
    "\n",
    "***\n",
    "__Question 6__ Implement the class ```Memory``` that stores moves (in a replay buffer) via ```remember``` and provides a ```random_access``` to these. Specify a maximum memory size to avoid side effects. You can for example use a ```list()``` and set by default ```max_memory=100```."
   ]
  },
  {
   "cell_type": "code",
   "execution_count": 9,
   "metadata": {
    "colab": {},
    "colab_type": "code",
    "id": "fgK23TfRVbmK"
   },
   "outputs": [],
   "source": [
    "class Memory(object):\n",
    "    def __init__(self, max_memory=100):\n",
    "        self.max_memory = max_memory\n",
    "        self.memory = list()\n",
    "\n",
    "    def remember(self, m):\n",
    "        if len(self.memory) > self.max_memory:\n",
    "            self.memory.pop(0)\n",
    "        self.memory.append(m)\n",
    "\n",
    "    def random_access(self):\n",
    "        r = int(np.random.rand()*len(self.memory))\n",
    "        return self.memory[r]"
   ]
  },
  {
   "cell_type": "markdown",
   "metadata": {
    "colab_type": "text",
    "id": "RY6Ccr2hVbmN"
   },
   "source": [
    "***\n",
    "The pipeline we will use for training is given below:"
   ]
  },
  {
   "cell_type": "code",
   "execution_count": 10,
   "metadata": {
    "colab": {},
    "colab_type": "code",
    "id": "sNvycheSVbmO"
   },
   "outputs": [],
   "source": [
    "def train(agent,env,epoch,prefix=''):\n",
    "    # Number of won games\n",
    "    score = 0\n",
    "    loss = 0\n",
    "\n",
    "    for e in range(epoch):\n",
    "        # At each epoch, we restart to a fresh game and get the initial state\n",
    "        state = env.reset()\n",
    "        # This assumes that the games will terminate\n",
    "        game_over = False\n",
    "\n",
    "        win = 0\n",
    "        lose = 0\n",
    "\n",
    "        while not game_over:\n",
    "            # The agent performs an action\n",
    "            action = agent.act(state)\n",
    "\n",
    "            # Apply an action to the environment, get the next state, the reward\n",
    "            # and if the games end\n",
    "            prev_state = state\n",
    "            state, reward, game_over = env.act(action)\n",
    "\n",
    "            # Update the counters\n",
    "            if reward > 0:\n",
    "                win = win + reward\n",
    "            if reward < 0:\n",
    "                lose = lose -reward\n",
    "\n",
    "            # Apply the reinforcement strategy\n",
    "            loss = agent.reinforce(prev_state, state,  action, reward, game_over)\n",
    "\n",
    "        # Save as a mp4\n",
    "        if e % 10 == 0:\n",
    "            env.draw(prefix+str(e))\n",
    "\n",
    "        # Update stats\n",
    "        score += win-lose\n",
    "\n",
    "        print(\"Epoch {:03d}/{:03d} | Loss {:.4f} | Win/lose count {}/{} ({})\"\n",
    "              .format(e, epoch, loss, win, lose, win-lose))\n",
    "        agent.save(name_weights=prefix+'model.h5',name_model=prefix+'model.json')"
   ]
  },
  {
   "cell_type": "markdown",
   "metadata": {
    "colab_type": "text",
    "id": "jEusUFwlVbmR"
   },
   "source": [
    "***\n",
    "__Question 7__ Implement the DQN training algorithm using a cascade of fully connected layers. You can use different learning rate, batch size or memory size parameters. In particular, the loss might oscillate while the player will start to win the games. You have to find a good criterium."
   ]
  },
  {
   "cell_type": "code",
   "execution_count": 11,
   "metadata": {
    "colab": {},
    "colab_type": "code",
    "id": "NWzrb-CPVbmS"
   },
   "outputs": [],
   "source": [
    "class DQN(Agent):\n",
    "    def __init__(self, grid_size,  epsilon = 0.1, memory_size=100, batch_size = 16,n_state=2):\n",
    "        super(DQN, self).__init__(epsilon = epsilon)\n",
    "\n",
    "        # Discount for Q learning\n",
    "        self.discount = 0.99\n",
    "        \n",
    "        self.grid_size = grid_size\n",
    "        \n",
    "        # number of state\n",
    "        self.n_state = n_state\n",
    "\n",
    "        # Memory\n",
    "        self.memory = Memory(memory_size)\n",
    "        \n",
    "        # Batch size when learning\n",
    "        self.batch_size = batch_size\n",
    "\n",
    "    def learned_act(self, s):\n",
    "        return np.argmax(self.model.predict(s.reshape(1, 5, 5, self.n_state)))\n",
    "\n",
    "    def reinforce(self, s_, n_s_, a_, r_, game_over_):\n",
    "        # Two steps: first memorize the states, second learn from the pool\n",
    "\n",
    "        self.memory.remember([s_, n_s_, a_, r_, game_over_])\n",
    "        \n",
    "        input_states = np.zeros((self.batch_size, 5,5,self.n_state))\n",
    "        target_q = np.zeros((self.batch_size, 4))\n",
    "        \n",
    "        for i in range(self.batch_size):\n",
    "            ######## FILL IN\n",
    "            state, next_state, action, reward, game_over_ = self.memory.random_access()\n",
    "            input_states[i] = state\n",
    "            reshaped_state = state.reshape(1, 5, 5, self.n_state)\n",
    "            target_q[i] = self.model.predict(reshaped_state)\n",
    "            \n",
    "            if game_over_:\n",
    "                ######## FILL IN\n",
    "                target_q[i, action] = reward \n",
    "            else:\n",
    "                ######## FILL IN\n",
    "                reshaped_next_state = next_state.reshape(1, 5, 5, self.n_state)\n",
    "                max_value = np.max(self.model.predict(reshaped_next_state))\n",
    "                \n",
    "                target_q[i, action] = reward + self.discount * max_value\n",
    "        ######## FILL IN\n",
    "        # HINT: Clip the target to avoid exploiding gradients.. -- clipping is a bit tighter\n",
    "        target_q = np.clip(target_q, -3, 3)\n",
    "\n",
    "        l = self.model.train_on_batch(input_states, target_q)\n",
    "        \n",
    "        return l\n",
    "\n",
    "    def save(self,name_weights='model.h5',name_model='model.json'):\n",
    "        self.model.save_weights(name_weights, overwrite=True)\n",
    "        with open(name_model, \"w\") as outfile:\n",
    "            json.dump(self.model.to_json(), outfile)\n",
    "            \n",
    "    def load(self,name_weights='model.h5',name_model='model.json'):\n",
    "        with open(name_model, \"r\") as jfile:\n",
    "            model = model_from_json(json.load(jfile))\n",
    "        model.load_weights(name_weights)\n",
    "        model.compile(\"sgd\", \"mse\")\n",
    "        self.model = model\n",
    "\n",
    "            \n",
    "class DQN_FC(DQN):\n",
    "    def __init__(self, *args, lr=0.1,**kwargs):\n",
    "        super(DQN_FC, self).__init__( *args,**kwargs)\n",
    "        \n",
    "        # NN Model\n",
    "        \n",
    "        ####### FILL IN\n",
    "        model = Sequential()\n",
    "        model.add(Flatten(input_shape= (5, 5, self.n_state)))\n",
    "        model.add(Dense(64, activation = 'relu'))\n",
    "        model.add(Dense(64, activation = 'relu'))\n",
    "        model.add(Dense(32, activation = 'relu'))\n",
    "        model.add(Dense(4))\n",
    "        \n",
    "        model.compile(sgd(lr=lr, decay=1e-4, momentum=0.0), \"mse\")\n",
    "        self.model = model\n",
    "        "
   ]
  },
  {
   "cell_type": "code",
   "execution_count": 12,
   "metadata": {
    "colab": {
     "base_uri": "https://localhost:8080/",
     "height": 819
    },
    "colab_type": "code",
    "id": "XnGPt18_VbmW",
    "outputId": "110d48c5-0207-482b-9075-19b5d3aeab23"
   },
   "outputs": [
    {
     "name": "stdout",
     "output_type": "stream",
     "text": [
      "WARNING:tensorflow:From /usr/local/lib/python3.7/site-packages/keras/backend/tensorflow_backend.py:1264: calling reduce_prod_v1 (from tensorflow.python.ops.math_ops) with keep_dims is deprecated and will be removed in a future version.\n",
      "Instructions for updating:\n",
      "keep_dims is deprecated, use keepdims instead\n",
      "WARNING:tensorflow:From /Users/fatineboujnouni/Library/Python/3.7/lib/python/site-packages/tensorflow/python/framework/op_def_library.py:263: colocate_with (from tensorflow.python.framework.ops) is deprecated and will be removed in a future version.\n",
      "Instructions for updating:\n",
      "Colocations handled automatically by placer.\n",
      "WARNING:tensorflow:From /Users/fatineboujnouni/Library/Python/3.7/lib/python/site-packages/tensorflow/python/ops/math_ops.py:3066: to_int32 (from tensorflow.python.ops.math_ops) is deprecated and will be removed in a future version.\n",
      "Instructions for updating:\n",
      "Use tf.cast instead.\n",
      "WARNING:tensorflow:Variable *= will be deprecated. Use `var.assign(var * other)` if you want assignment to the variable value or `x = x * y` if you want a new python Tensor object.\n",
      "Epoch 000/101 | Loss 0.0035 | Win/lose count 8.0/5.0 (3.0)\n",
      "Epoch 001/101 | Loss 0.0048 | Win/lose count 2.5/7.0 (-4.5)\n",
      "Epoch 002/101 | Loss 0.0216 | Win/lose count 8.0/0 (8.0)\n",
      "Epoch 003/101 | Loss 0.0047 | Win/lose count 2.0/3.0 (-1.0)\n",
      "Epoch 004/101 | Loss 0.0109 | Win/lose count 5.5/7.0 (-1.5)\n",
      "Epoch 005/101 | Loss 0.0056 | Win/lose count 5.5/8.0 (-2.5)\n",
      "Epoch 006/101 | Loss 0.0067 | Win/lose count 1.0/4.0 (-3.0)\n",
      "Epoch 007/101 | Loss 0.0019 | Win/lose count 3.0/3.0 (0.0)\n",
      "Epoch 008/101 | Loss 0.0028 | Win/lose count 2.0/2.0 (0.0)\n",
      "Epoch 009/101 | Loss 0.0062 | Win/lose count 2.5/1.0 (1.5)\n",
      "Epoch 010/101 | Loss 0.0018 | Win/lose count 3.0/2.0 (1.0)\n",
      "Epoch 011/101 | Loss 0.0033 | Win/lose count 7.0/4.0 (3.0)\n",
      "Epoch 012/101 | Loss 0.0030 | Win/lose count 9.0/7.0 (2.0)\n",
      "Epoch 013/101 | Loss 0.0039 | Win/lose count 5.0/4.0 (1.0)\n",
      "Epoch 014/101 | Loss 0.0042 | Win/lose count 10.5/1.0 (9.5)\n",
      "Epoch 015/101 | Loss 0.0047 | Win/lose count 9.0/2.0 (7.0)\n",
      "Epoch 016/101 | Loss 0.0045 | Win/lose count 6.5/5.0 (1.5)\n",
      "Epoch 017/101 | Loss 0.0036 | Win/lose count 3.5/3.0 (0.5)\n",
      "Epoch 018/101 | Loss 0.0050 | Win/lose count 5.5/2.0 (3.5)\n",
      "Epoch 019/101 | Loss 0.0075 | Win/lose count 6.0/3.0 (3.0)\n",
      "Epoch 020/101 | Loss 0.0024 | Win/lose count 8.0/2.0 (6.0)\n",
      "Epoch 021/101 | Loss 0.0082 | Win/lose count 8.0/2.0 (6.0)\n",
      "Epoch 022/101 | Loss 0.0051 | Win/lose count 4.0/3.0 (1.0)\n",
      "Epoch 023/101 | Loss 0.0062 | Win/lose count 10.0/5.0 (5.0)\n",
      "Epoch 024/101 | Loss 0.0046 | Win/lose count 9.5/1.0 (8.5)\n",
      "Epoch 025/101 | Loss 0.0049 | Win/lose count 6.5/2.0 (4.5)\n",
      "Epoch 026/101 | Loss 0.0026 | Win/lose count 5.0/3.0 (2.0)\n",
      "Epoch 027/101 | Loss 0.0040 | Win/lose count 10.5/4.0 (6.5)\n",
      "Epoch 028/101 | Loss 0.0507 | Win/lose count 11.0/2.0 (9.0)\n",
      "Epoch 029/101 | Loss 0.0070 | Win/lose count 10.0/1.0 (9.0)\n",
      "Epoch 030/101 | Loss 0.0040 | Win/lose count 10.5/4.0 (6.5)\n",
      "Epoch 031/101 | Loss 0.0045 | Win/lose count 25.0/3.0 (22.0)\n",
      "Epoch 032/101 | Loss 0.0056 | Win/lose count 9.5/2.0 (7.5)\n",
      "Epoch 033/101 | Loss 0.0025 | Win/lose count 9.0/4.0 (5.0)\n",
      "Epoch 034/101 | Loss 0.0067 | Win/lose count 15.0/2.0 (13.0)\n",
      "Epoch 035/101 | Loss 0.0050 | Win/lose count 23.0/1.0 (22.0)\n",
      "Epoch 036/101 | Loss 0.0041 | Win/lose count 10.0/2.0 (8.0)\n",
      "Epoch 037/101 | Loss 0.0051 | Win/lose count 13.0/0 (13.0)\n",
      "Epoch 038/101 | Loss 0.0042 | Win/lose count 12.5/4.0 (8.5)\n",
      "Epoch 039/101 | Loss 0.0041 | Win/lose count 15.5/3.0 (12.5)\n",
      "Epoch 040/101 | Loss 0.0035 | Win/lose count 14.0/1.0 (13.0)\n",
      "Epoch 041/101 | Loss 0.0038 | Win/lose count 6.0/2.0 (4.0)\n",
      "Epoch 042/101 | Loss 0.0058 | Win/lose count 12.5/5.0 (7.5)\n",
      "Epoch 043/101 | Loss 0.0060 | Win/lose count 7.0/2.0 (5.0)\n",
      "Epoch 044/101 | Loss 0.0074 | Win/lose count 13.5/3.0 (10.5)\n",
      "Epoch 045/101 | Loss 0.0090 | Win/lose count 15.0/5.0 (10.0)\n",
      "Epoch 046/101 | Loss 0.0028 | Win/lose count 17.0/4.0 (13.0)\n",
      "Epoch 047/101 | Loss 0.0037 | Win/lose count 8.5/2.0 (6.5)\n",
      "Epoch 048/101 | Loss 0.0053 | Win/lose count 0.5/0 (0.5)\n",
      "Epoch 049/101 | Loss 0.0023 | Win/lose count 19.0/1.0 (18.0)\n",
      "Epoch 050/101 | Loss 0.0037 | Win/lose count 15.5/1.0 (14.5)\n",
      "Epoch 051/101 | Loss 0.0549 | Win/lose count 14.5/3.0 (11.5)\n",
      "Epoch 052/101 | Loss 0.0034 | Win/lose count 8.0/1.0 (7.0)\n",
      "Epoch 053/101 | Loss 0.0031 | Win/lose count 19.0/3.0 (16.0)\n",
      "Epoch 054/101 | Loss 0.0039 | Win/lose count 11.0/5.0 (6.0)\n",
      "Epoch 055/101 | Loss 0.0039 | Win/lose count 17.0/3.0 (14.0)\n",
      "Epoch 056/101 | Loss 0.0029 | Win/lose count 14.5/5.0 (9.5)\n",
      "Epoch 057/101 | Loss 0.0028 | Win/lose count 16.0/2.0 (14.0)\n",
      "Epoch 058/101 | Loss 0.0027 | Win/lose count 9.5/1.0 (8.5)\n",
      "Epoch 059/101 | Loss 0.0037 | Win/lose count 7.0/2.0 (5.0)\n",
      "Epoch 060/101 | Loss 0.0069 | Win/lose count 12.0/4.0 (8.0)\n",
      "Epoch 061/101 | Loss 0.0017 | Win/lose count 19.5/5.0 (14.5)\n",
      "Epoch 062/101 | Loss 0.0012 | Win/lose count 6.0/3.0 (3.0)\n",
      "Epoch 063/101 | Loss 0.0955 | Win/lose count 20.5/4.0 (16.5)\n",
      "Epoch 064/101 | Loss 0.0018 | Win/lose count 7.0/1.0 (6.0)\n",
      "Epoch 065/101 | Loss 0.0031 | Win/lose count 13.0/3.0 (10.0)\n",
      "Epoch 066/101 | Loss 0.0039 | Win/lose count 18.5/3.0 (15.5)\n",
      "Epoch 067/101 | Loss 0.0022 | Win/lose count 7.5/4.0 (3.5)\n",
      "Epoch 068/101 | Loss 0.0031 | Win/lose count 13.0/3.0 (10.0)\n",
      "Epoch 069/101 | Loss 0.0027 | Win/lose count 12.5/4.0 (8.5)\n",
      "Epoch 070/101 | Loss 0.0029 | Win/lose count 6.0/2.0 (4.0)\n",
      "Epoch 071/101 | Loss 0.0074 | Win/lose count 15.5/3.0 (12.5)\n",
      "Epoch 072/101 | Loss 0.0030 | Win/lose count 23.0/6.0 (17.0)\n",
      "Epoch 073/101 | Loss 0.0017 | Win/lose count 7.0/1.0 (6.0)\n",
      "Epoch 074/101 | Loss 0.0036 | Win/lose count 5.5/3.0 (2.5)\n",
      "Epoch 075/101 | Loss 0.0031 | Win/lose count 3.0/1.0 (2.0)\n",
      "Epoch 076/101 | Loss 0.0018 | Win/lose count 7.5/0 (7.5)\n",
      "Epoch 077/101 | Loss 0.0020 | Win/lose count 14.5/2.0 (12.5)\n",
      "Epoch 078/101 | Loss 0.0026 | Win/lose count 9.0/1.0 (8.0)\n",
      "Epoch 079/101 | Loss 0.0038 | Win/lose count 11.5/4.0 (7.5)\n",
      "Epoch 080/101 | Loss 0.0041 | Win/lose count 13.0/3.0 (10.0)\n",
      "Epoch 081/101 | Loss 0.0022 | Win/lose count 13.5/5.0 (8.5)\n",
      "Epoch 082/101 | Loss 0.0023 | Win/lose count 6.0/3.0 (3.0)\n",
      "Epoch 083/101 | Loss 0.0014 | Win/lose count 5.5/0 (5.5)\n",
      "Epoch 084/101 | Loss 0.0449 | Win/lose count 15.5/4.0 (11.5)\n",
      "Epoch 085/101 | Loss 0.0072 | Win/lose count 10.0/3.0 (7.0)\n",
      "Epoch 086/101 | Loss 0.0052 | Win/lose count 5.5/1.0 (4.5)\n",
      "Epoch 087/101 | Loss 0.0053 | Win/lose count 9.5/1.0 (8.5)\n",
      "Epoch 088/101 | Loss 0.0035 | Win/lose count 8.5/3.0 (5.5)\n",
      "Epoch 089/101 | Loss 0.0025 | Win/lose count 8.0/0 (8.0)\n",
      "Epoch 090/101 | Loss 0.0031 | Win/lose count 8.0/6.0 (2.0)\n",
      "Epoch 091/101 | Loss 0.0033 | Win/lose count 9.5/3.0 (6.5)\n",
      "Epoch 092/101 | Loss 0.0018 | Win/lose count 20.0/0 (20.0)\n",
      "Epoch 093/101 | Loss 0.0069 | Win/lose count 15.0/5.0 (10.0)\n",
      "Epoch 094/101 | Loss 0.0036 | Win/lose count 4.0/1.0 (3.0)\n",
      "Epoch 095/101 | Loss 0.0032 | Win/lose count 10.0/2.0 (8.0)\n",
      "Epoch 096/101 | Loss 0.0065 | Win/lose count 10.5/3.0 (7.5)\n",
      "Epoch 097/101 | Loss 0.0042 | Win/lose count 8.0/2.0 (6.0)\n",
      "Epoch 098/101 | Loss 0.0585 | Win/lose count 16.0/3.0 (13.0)\n",
      "Epoch 099/101 | Loss 0.0039 | Win/lose count 5.5/4.0 (1.5)\n",
      "Epoch 100/101 | Loss 0.0447 | Win/lose count 12.0/4.0 (8.0)\n"
     ]
    },
    {
     "data": {
      "text/html": [
       "<video alt=\"test\" controls>\n",
       "                <source src=\"data:video/mp4;base64,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\" type=\"video/mp4\" />\n",
       "             </video>"
      ],
      "text/plain": [
       "<IPython.core.display.HTML object>"
      ]
     },
     "execution_count": 12,
     "metadata": {},
     "output_type": "execute_result"
    }
   ],
   "source": [
    "epochs_train = 101\n",
    "env = Environment(grid_size=size, max_time=T, temperature=0.3)\n",
    "agent = DQN_FC(size, lr=.1, epsilon = 0.1, memory_size=2000, batch_size = 32)\n",
    "train(agent, env, epochs_train, prefix='fc_train')\n",
    "HTML(display_videos('fc_train40.mp4'))"
   ]
  },
  {
   "cell_type": "markdown",
   "metadata": {
    "colab_type": "text",
    "id": "kX_saUaxVbmc"
   },
   "source": [
    "***\n",
    "***\n",
    "__Question 8__ Implement the DQN training algorithm using a CNN (for example, 2 convolutional layers and one final fully connected layer)."
   ]
  },
  {
   "cell_type": "code",
   "execution_count": 27,
   "metadata": {
    "colab": {},
    "colab_type": "code",
    "id": "x0Mbha92Vbmd"
   },
   "outputs": [],
   "source": [
    "class DQN_CNN(DQN):\n",
    "    def __init__(self, *args,lr=0.1,**kwargs):\n",
    "        super(DQN_CNN, self).__init__(*args,**kwargs)\n",
    "        \n",
    "        ###### FILL IN\n",
    "        model = Sequential()\n",
    "        \n",
    "        model.add(Conv2D(32, (3, 3), activation = 'relu', input_shape = ((5, 5, self.n_state))))\n",
    "        model.add(Conv2D(16, (3, 3), activation = 'relu'))\n",
    "        \n",
    "        #model.add(Dropout(0.2))\n",
    "        model.add(Flatten())\n",
    "        model.add(Dense(4))\n",
    "        \n",
    "        model.compile(sgd(lr=lr, decay=1e-4, momentum=0.0), \"mse\")\n",
    "        self.model = model"
   ]
  },
  {
   "cell_type": "code",
   "execution_count": 28,
   "metadata": {
    "colab": {},
    "colab_type": "code",
    "id": "4zytktEmVbmg"
   },
   "outputs": [
    {
     "name": "stdout",
     "output_type": "stream",
     "text": [
      "Epoch 000/101 | Loss 0.0094 | Win/lose count 5.0/11.0 (-6.0)\n",
      "Epoch 001/101 | Loss 0.0110 | Win/lose count 3.0/3.0 (0.0)\n",
      "Epoch 002/101 | Loss 0.0078 | Win/lose count 9.5/5.0 (4.5)\n",
      "Epoch 003/101 | Loss 0.0054 | Win/lose count 2.5/0 (2.5)\n",
      "Epoch 004/101 | Loss 0.0066 | Win/lose count 2.5/3.0 (-0.5)\n",
      "Epoch 005/101 | Loss 0.0035 | Win/lose count 6.5/2.0 (4.5)\n",
      "Epoch 006/101 | Loss 0.0040 | Win/lose count 5.0/7.0 (-2.0)\n",
      "Epoch 007/101 | Loss 0.0631 | Win/lose count 4.0/3.0 (1.0)\n",
      "Epoch 008/101 | Loss 0.0019 | Win/lose count 3.5/2.0 (1.5)\n",
      "Epoch 009/101 | Loss 0.0093 | Win/lose count 7.0/5.0 (2.0)\n",
      "Epoch 010/101 | Loss 0.0021 | Win/lose count 5.5/2.0 (3.5)\n",
      "Epoch 011/101 | Loss 0.0037 | Win/lose count 7.0/1.0 (6.0)\n",
      "Epoch 012/101 | Loss 0.0034 | Win/lose count 6.0/2.0 (4.0)\n",
      "Epoch 013/101 | Loss 0.0007 | Win/lose count 5.0/1.0 (4.0)\n",
      "Epoch 014/101 | Loss 0.0497 | Win/lose count 9.5/1.0 (8.5)\n",
      "Epoch 015/101 | Loss 0.0017 | Win/lose count 11.0/3.0 (8.0)\n",
      "Epoch 016/101 | Loss 0.0006 | Win/lose count 11.0/2.0 (9.0)\n",
      "Epoch 017/101 | Loss 0.0015 | Win/lose count 13.0/1.0 (12.0)\n",
      "Epoch 018/101 | Loss 0.0023 | Win/lose count 14.0/3.0 (11.0)\n",
      "Epoch 019/101 | Loss 0.0036 | Win/lose count 6.5/3.0 (3.5)\n",
      "Epoch 020/101 | Loss 0.0026 | Win/lose count 14.0/1.0 (13.0)\n",
      "Epoch 021/101 | Loss 0.0030 | Win/lose count 2.5/1.0 (1.5)\n",
      "Epoch 022/101 | Loss 0.0018 | Win/lose count 17.0/2.0 (15.0)\n",
      "Epoch 023/101 | Loss 0.0015 | Win/lose count 11.5/1.0 (10.5)\n",
      "Epoch 024/101 | Loss 0.0029 | Win/lose count 18.0/3.0 (15.0)\n",
      "Epoch 025/101 | Loss 0.0041 | Win/lose count 2.5/5.0 (-2.5)\n",
      "Epoch 026/101 | Loss 0.0028 | Win/lose count 6.5/3.0 (3.5)\n",
      "Epoch 027/101 | Loss 0.0055 | Win/lose count 13.0/4.0 (9.0)\n",
      "Epoch 028/101 | Loss 0.0008 | Win/lose count 12.5/3.0 (9.5)\n",
      "Epoch 029/101 | Loss 0.0015 | Win/lose count 13.5/2.0 (11.5)\n",
      "Epoch 030/101 | Loss 0.0466 | Win/lose count 5.5/4.0 (1.5)\n",
      "Epoch 031/101 | Loss 0.0065 | Win/lose count 8.5/0 (8.5)\n",
      "Epoch 032/101 | Loss 0.0015 | Win/lose count 9.5/3.0 (6.5)\n",
      "Epoch 033/101 | Loss 0.0444 | Win/lose count 10.5/4.0 (6.5)\n",
      "Epoch 034/101 | Loss 0.0036 | Win/lose count 12.0/2.0 (10.0)\n",
      "Epoch 035/101 | Loss 0.0464 | Win/lose count 11.5/1.0 (10.5)\n",
      "Epoch 036/101 | Loss 0.0023 | Win/lose count 17.5/3.0 (14.5)\n",
      "Epoch 037/101 | Loss 0.0022 | Win/lose count 13.5/1.0 (12.5)\n",
      "Epoch 038/101 | Loss 0.0046 | Win/lose count 12.0/3.0 (9.0)\n",
      "Epoch 039/101 | Loss 0.0503 | Win/lose count 16.5/2.0 (14.5)\n",
      "Epoch 040/101 | Loss 0.0062 | Win/lose count 10.0/2.0 (8.0)\n",
      "Epoch 041/101 | Loss 0.0025 | Win/lose count 18.0/3.0 (15.0)\n",
      "Epoch 042/101 | Loss 0.0021 | Win/lose count 13.0/2.0 (11.0)\n",
      "Epoch 043/101 | Loss 0.0061 | Win/lose count 7.5/5.0 (2.5)\n",
      "Epoch 044/101 | Loss 0.0070 | Win/lose count 16.5/3.0 (13.5)\n",
      "Epoch 045/101 | Loss 0.0037 | Win/lose count 13.5/1.0 (12.5)\n",
      "Epoch 046/101 | Loss 0.0024 | Win/lose count 8.0/0 (8.0)\n",
      "Epoch 047/101 | Loss 0.0010 | Win/lose count 12.0/2.0 (10.0)\n",
      "Epoch 048/101 | Loss 0.0029 | Win/lose count 18.5/3.0 (15.5)\n",
      "Epoch 049/101 | Loss 0.0035 | Win/lose count 16.5/5.0 (11.5)\n",
      "Epoch 050/101 | Loss 0.0051 | Win/lose count 16.5/2.0 (14.5)\n",
      "Epoch 051/101 | Loss 0.0030 | Win/lose count 18.0/3.0 (15.0)\n",
      "Epoch 052/101 | Loss 0.0034 | Win/lose count 16.0/1.0 (15.0)\n",
      "Epoch 053/101 | Loss 0.0602 | Win/lose count 8.0/3.0 (5.0)\n",
      "Epoch 054/101 | Loss 0.0020 | Win/lose count 7.5/3.0 (4.5)\n",
      "Epoch 055/101 | Loss 0.0525 | Win/lose count 16.5/3.0 (13.5)\n",
      "Epoch 056/101 | Loss 0.0038 | Win/lose count 6.5/1.0 (5.5)\n",
      "Epoch 057/101 | Loss 0.0040 | Win/lose count 14.5/3.0 (11.5)\n",
      "Epoch 058/101 | Loss 0.0025 | Win/lose count 20.0/2.0 (18.0)\n",
      "Epoch 059/101 | Loss 0.0033 | Win/lose count 16.5/2.0 (14.5)\n",
      "Epoch 060/101 | Loss 0.0034 | Win/lose count 12.0/1.0 (11.0)\n",
      "Epoch 061/101 | Loss 0.0043 | Win/lose count 15.0/2.0 (13.0)\n",
      "Epoch 062/101 | Loss 0.0013 | Win/lose count 18.0/2.0 (16.0)\n",
      "Epoch 063/101 | Loss 0.0053 | Win/lose count 9.0/2.0 (7.0)\n",
      "Epoch 064/101 | Loss 0.0073 | Win/lose count 14.5/5.0 (9.5)\n",
      "Epoch 065/101 | Loss 0.0372 | Win/lose count 22.0/4.0 (18.0)\n",
      "Epoch 066/101 | Loss 0.0037 | Win/lose count 12.0/0 (12.0)\n",
      "Epoch 067/101 | Loss 0.0023 | Win/lose count 13.0/2.0 (11.0)\n",
      "Epoch 068/101 | Loss 0.0016 | Win/lose count 16.0/2.0 (14.0)\n",
      "Epoch 069/101 | Loss 0.0034 | Win/lose count 12.5/2.0 (10.5)\n",
      "Epoch 070/101 | Loss 0.0027 | Win/lose count 12.0/6.0 (6.0)\n",
      "Epoch 071/101 | Loss 0.0032 | Win/lose count 13.5/3.0 (10.5)\n",
      "Epoch 072/101 | Loss 0.0014 | Win/lose count 5.0/4.0 (1.0)\n",
      "Epoch 073/101 | Loss 0.0058 | Win/lose count 17.0/1.0 (16.0)\n",
      "Epoch 074/101 | Loss 0.0529 | Win/lose count 14.0/2.0 (12.0)\n",
      "Epoch 075/101 | Loss 0.0478 | Win/lose count 6.0/4.0 (2.0)\n",
      "Epoch 076/101 | Loss 0.0018 | Win/lose count 12.5/3.0 (9.5)\n",
      "Epoch 077/101 | Loss 0.0011 | Win/lose count 15.5/0 (15.5)\n",
      "Epoch 078/101 | Loss 0.1080 | Win/lose count 18.0/6.0 (12.0)\n",
      "Epoch 079/101 | Loss 0.0029 | Win/lose count 19.5/5.0 (14.5)\n",
      "Epoch 080/101 | Loss 0.0025 | Win/lose count 18.0/1.0 (17.0)\n",
      "Epoch 081/101 | Loss 0.0029 | Win/lose count 5.0/1.0 (4.0)\n",
      "Epoch 082/101 | Loss 0.0012 | Win/lose count 23.5/1.0 (22.5)\n",
      "Epoch 083/101 | Loss 0.0023 | Win/lose count 13.0/3.0 (10.0)\n",
      "Epoch 084/101 | Loss 0.0044 | Win/lose count 15.5/4.0 (11.5)\n",
      "Epoch 085/101 | Loss 0.0071 | Win/lose count 17.5/3.0 (14.5)\n",
      "Epoch 086/101 | Loss 0.0021 | Win/lose count 8.5/1.0 (7.5)\n",
      "Epoch 087/101 | Loss 0.0034 | Win/lose count 21.5/7.0 (14.5)\n",
      "Epoch 088/101 | Loss 0.0027 | Win/lose count 5.5/1.0 (4.5)\n",
      "Epoch 089/101 | Loss 0.0015 | Win/lose count 15.5/2.0 (13.5)\n",
      "Epoch 090/101 | Loss 0.0038 | Win/lose count 21.0/5.0 (16.0)\n",
      "Epoch 091/101 | Loss 0.0020 | Win/lose count 20.5/4.0 (16.5)\n",
      "Epoch 092/101 | Loss 0.0022 | Win/lose count 14.0/4.0 (10.0)\n",
      "Epoch 093/101 | Loss 0.0546 | Win/lose count 11.0/4.0 (7.0)\n",
      "Epoch 094/101 | Loss 0.0563 | Win/lose count 22.0/5.0 (17.0)\n",
      "Epoch 095/101 | Loss 0.0036 | Win/lose count 10.0/3.0 (7.0)\n",
      "Epoch 096/101 | Loss 0.0025 | Win/lose count 15.0/6.0 (9.0)\n",
      "Epoch 097/101 | Loss 0.0049 | Win/lose count 19.5/4.0 (15.5)\n",
      "Epoch 098/101 | Loss 0.0050 | Win/lose count 15.5/1.0 (14.5)\n",
      "Epoch 099/101 | Loss 0.0048 | Win/lose count 26.0/1.0 (25.0)\n",
      "Epoch 100/101 | Loss 0.0557 | Win/lose count 12.5/5.0 (7.5)\n"
     ]
    },
    {
     "data": {
      "text/html": [
       "<video alt=\"test\" controls>\n",
       "                <source src=\"data:video/mp4;base64,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\" type=\"video/mp4\" />\n",
       "             </video>"
      ],
      "text/plain": [
       "<IPython.core.display.HTML object>"
      ]
     },
     "execution_count": 28,
     "metadata": {},
     "output_type": "execute_result"
    }
   ],
   "source": [
    "env = Environment(grid_size=size, max_time=T, temperature=0.3)\n",
    "agent = DQN_CNN(size, lr=.1, epsilon = 0.1, memory_size=2000, batch_size = 32)\n",
    "train(agent,env,epochs_train,prefix='cnn_train')\n",
    "HTML(display_videos('cnn_train100.mp4'))"
   ]
  },
  {
   "cell_type": "markdown",
   "metadata": {
    "colab_type": "text",
    "id": "qv-WWBo3Vbmk"
   },
   "source": [
    "***\n",
    "***\n",
    "__Question 9__ Test both algorithms and compare their performances. Which issue(s) do you observe? Observe also different behaviors by changing the temperature."
   ]
  },
  {
   "cell_type": "code",
   "execution_count": 29,
   "metadata": {
    "colab": {},
    "colab_type": "code",
    "id": "usxVPqY4Vbml"
   },
   "outputs": [
    {
     "name": "stdout",
     "output_type": "stream",
     "text": [
      "Test of the CNN\n",
      "Win/lose count 9.0/6.0. Average score (3.0)\n",
      "Win/lose count 14.5/3.0. Average score (7.25)\n",
      "Win/lose count 6.5/3.0. Average score (6.0)\n",
      "Win/lose count 8.5/3.0. Average score (5.875)\n",
      "Win/lose count 14.0/4.0. Average score (6.7)\n",
      "Win/lose count 15.0/2.0. Average score (7.75)\n",
      "Win/lose count 14.5/3.0. Average score (8.285714285714286)\n",
      "Win/lose count 13.0/4.0. Average score (8.375)\n",
      "Win/lose count 24.0/3.0. Average score (9.777777777777779)\n",
      "Win/lose count 6.0/3.0. Average score (9.1)\n",
      "Win/lose count 12.0/4.0. Average score (9.0)\n",
      "Final score: 9.0\n",
      "Test of the FC\n",
      "Win/lose count 8.0/1.0. Average score (7.0)\n",
      "Win/lose count 25.5/3.0. Average score (14.75)\n",
      "Win/lose count 4.5/0. Average score (11.333333333333334)\n",
      "Win/lose count 13.0/5.0. Average score (10.5)\n",
      "Win/lose count 8.0/1.0. Average score (9.8)\n",
      "Win/lose count 15.0/3.0. Average score (10.166666666666666)\n",
      "Win/lose count 3.0/2.0. Average score (8.857142857142858)\n",
      "Win/lose count 6.5/2.0. Average score (8.3125)\n",
      "Win/lose count 12.0/0. Average score (8.722222222222221)\n",
      "Win/lose count 12.0/2.0. Average score (8.85)\n",
      "Win/lose count 11.5/2.0. Average score (8.909090909090908)\n",
      "Final score: 8.909090909090908\n"
     ]
    }
   ],
   "source": [
    "env = Environment(grid_size=size, max_time=T,temperature=0.3)\n",
    "agent_cnn = DQN_CNN(size, lr=.1, epsilon = 0.1, memory_size=2000, batch_size = 32)\n",
    "agent_cnn.load(name_weights='cnn_trainmodel.h5',name_model='cnn_trainmodel.json')\n",
    "\n",
    "agent_fc = DQN_FC(size, lr=.1, epsilon = 0.1, memory_size=2000, batch_size = 32)\n",
    "agent_fc.load(name_weights='fc_trainmodel.h5',name_model='fc_trainmodel.json')\n",
    "print('Test of the CNN')\n",
    "test(agent_cnn,env,epochs_test,prefix='cnn_test')\n",
    "print('Test of the FC')\n",
    "test(agent_fc,env,epochs_test,prefix='fc_test')"
   ]
  },
  {
   "cell_type": "code",
   "execution_count": 31,
   "metadata": {
    "colab": {},
    "colab_type": "code",
    "id": "fCFx14DWVbmq"
   },
   "outputs": [
    {
     "data": {
      "text/html": [
       "<video alt=\"test\" controls>\n",
       "                <source src=\"data:video/mp4;base64,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\" type=\"video/mp4\" />\n",
       "             </video>"
      ],
      "text/plain": [
       "<IPython.core.display.HTML object>"
      ]
     },
     "execution_count": 31,
     "metadata": {},
     "output_type": "execute_result"
    }
   ],
   "source": [
    "HTML(display_videos('cnn_test10.mp4'))"
   ]
  },
  {
   "cell_type": "code",
   "execution_count": 32,
   "metadata": {
    "colab": {},
    "colab_type": "code",
    "id": "r32c5utiVbmt"
   },
   "outputs": [
    {
     "data": {
      "text/html": [
       "<video alt=\"test\" controls>\n",
       "                <source src=\"data:video/mp4;base64,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\" type=\"video/mp4\" />\n",
       "             </video>"
      ],
      "text/plain": [
       "<IPython.core.display.HTML object>"
      ]
     },
     "execution_count": 32,
     "metadata": {},
     "output_type": "execute_result"
    }
   ],
   "source": [
    "HTML(display_videos('fc_test10.mp4'))"
   ]
  },
  {
   "cell_type": "markdown",
   "metadata": {
    "colab_type": "text",
    "id": "5ypAOIIdVbmy"
   },
   "source": [
    "> The main issue is that the agent doesn't explore much the map, it always gets stuck in a loop, especially when there is no cheese near it.\n",
    "We notice slso The CNN performs better than the FC. \n",
    "If the temperature is high, the agent is able to receive more rewards ( cheese ) before getting stuck in a loop, and if it is low, the agent avoid to go to the cases where there is a malus ( poison ). \n",
    "In order to improve the score wa can either try new networks architectures or force a period of exploratin. \n"
   ]
  },
  {
   "cell_type": "markdown",
   "metadata": {
    "colab_type": "text",
    "id": "FAEVQ5tMVbmz"
   },
   "source": [
    "***\n",
    "\n",
    "The algorithm tends to not explore the map which can be an issue. We propose two ideas in order to encourage exploration:\n",
    "1. Incorporating a decreasing $\\epsilon$-greedy exploration. You can use the method ```set_epsilon```\n",
    "2. Append via the environment a new state that describes if a cell has been visited or not\n",
    "\n",
    "***\n",
    "__Question 10__ Design a new ```train_explore``` function and environment class ```EnvironmentExploring``` to tackle the issue of exploration.\n",
    "\n"
   ]
  },
  {
   "cell_type": "code",
   "execution_count": 33,
   "metadata": {
    "colab": {},
    "colab_type": "code",
    "id": "IBv7xXM1Vbmz"
   },
   "outputs": [],
   "source": [
    "def train_explore(agent,env,epoch,prefix=''):\n",
    "\n",
    "    score = 0\n",
    "    loss = 0\n",
    "\n",
    "    for e in range(epoch):\n",
    "        # At each epoch, we restart to a fresh game and get the initial state\n",
    "        state = env.reset()\n",
    "        # This assumes that the games will terminate\n",
    "        game_over = False\n",
    "\n",
    "        win = 0\n",
    "        lose = 0\n",
    "        \n",
    "        # Set decreasing epsilon\n",
    "        agent.set_epsilon(agent.epsilon*0.995)\n",
    "        \n",
    "        while not game_over:\n",
    "            # The agent performs an action\n",
    "            action = agent.act(state)\n",
    "\n",
    "            # Apply an action to the environment, get the next state, the reward\n",
    "            # and if the games end\n",
    "            prev_state = state\n",
    "            state, reward, game_over = env.act(action)\n",
    "\n",
    "            # Update the counters\n",
    "            if reward > 0:\n",
    "                win = win + reward\n",
    "            if reward < 0:\n",
    "                lose = lose -reward\n",
    "\n",
    "            # Apply the reinforcement strategy\n",
    "            loss = agent.reinforce(prev_state, state,  action, reward, game_over)\n",
    "\n",
    "        # Save as a mp4\n",
    "        if e % 10 == 0:\n",
    "            env.draw(prefix+str(e))\n",
    "\n",
    "        # Update stats\n",
    "        score += win-lose\n",
    "\n",
    "        print(\"Epoch {:03d}/{:03d} | Loss {:.4f} | Win/lose count {}/{} ({})\"\n",
    "              .format(e, epoch, loss, win, lose, win-lose))\n",
    "        agent.save(name_weights=prefix+'model.h5',name_model=prefix+'model.json')\n",
    "        \n",
    "class EnvironmentExploring(Environment):\n",
    "    def __init__(self, grid_size=10, max_time=500, temperature=0.1):\n",
    "        super(EnvironmentExploring, self).__init__(grid_size=10, max_time=500, temperature=0.1)\n",
    "        \n",
    "        grid_size = grid_size+4\n",
    "        self.grid_size = grid_size\n",
    "        self.max_time = max_time\n",
    "        self.temperature = temperature\n",
    "\n",
    "        #board on which one plays\n",
    "        self.board = np.zeros((grid_size,grid_size))\n",
    "        self.position = np.zeros((grid_size,grid_size))\n",
    "\n",
    "        # coordinate of the rat\n",
    "        self.x = 0\n",
    "        self.y = 1\n",
    "\n",
    "        # self time\n",
    "        self.t = 0\n",
    "        self.scale=16\n",
    "        self.to_draw = np.zeros((max_time+2, grid_size*self.scale, grid_size*self.scale, 3))\n",
    "        \n",
    "        self.malus_position = np.zeros((self.grid_size,self.grid_size))\n",
    "    \n",
    "    def draw(self,e):\n",
    "        skvideo.io.vwrite(str(e) + '.mp4', self.to_draw)\n",
    "\n",
    "    def get_frame(self,t):\n",
    "        b = np.zeros((self.grid_size,self.grid_size,3))+128\n",
    "        b[self.board>0,0] = 256\n",
    "        b[self.board < 0, 2] = 256\n",
    "        b[self.malus_position != 0, 1] = 256 # Green color for covered map\n",
    "        b[self.x,self.y,:]=256\n",
    "        b[-2:,:,:]=0\n",
    "        b[:,-2:,:]=0\n",
    "        b[:2,:,:]=0\n",
    "        b[:,:2,:]=0\n",
    "        \n",
    "        b =  cv2.resize(b, None, fx=self.scale, fy=self.scale, interpolation=cv2.INTER_NEAREST)\n",
    "\n",
    "        self.to_draw[t,:,:,:]=b\n",
    "\n",
    "\n",
    "    def act(self, action):\n",
    "        \"\"\"This function returns the new state, reward and decides if the\n",
    "        game ends.\"\"\"\n",
    "\n",
    "        self.get_frame(int(self.t))\n",
    "\n",
    "        self.position = np.zeros((self.grid_size, self.grid_size))\n",
    "\n",
    "        self.position[0:2,:]= -1\n",
    "        self.position[:,0:2] = -1\n",
    "        self.position[-2:, :] = -1\n",
    "        #error ==> self.position[-2:, :]\n",
    "        self.position[:, -2:] = -1\n",
    "\n",
    "        self.position[self.x, self.y] = 1\n",
    "        if action == 0:\n",
    "            if self.x == self.grid_size-3:\n",
    "                self.x = self.x - 1\n",
    "            else:\n",
    "                self.x = self.x + 1\n",
    "        elif action == 1:\n",
    "            if self.x == 2:\n",
    "                self.x = self.x+1\n",
    "            else:\n",
    "                self.x = self.x-1\n",
    "        elif action == 2:\n",
    "            if self.y == self.grid_size - 3:\n",
    "                self.y = self.y - 1\n",
    "            else:\n",
    "                self.y = self.y + 1\n",
    "        elif action == 3:\n",
    "            if self.y == 2:\n",
    "                self.y = self.y + 1\n",
    "            else:\n",
    "                self.y = self.y - 1\n",
    "        else:\n",
    "            RuntimeError('Error: action not recognized')\n",
    "\n",
    "        self.t = self.t + 1\n",
    "        reward = 0\n",
    "        if train:\n",
    "            reward = -self.malus_position[self.x, self.y]\n",
    "        self.malus_position[self.x, self.y] = 0.1\n",
    "\n",
    "        reward = reward + self.board[self.x, self.y]\n",
    "        self.board[self.x, self.y] = 0\n",
    "        game_over = self.t > self.max_time\n",
    "        \n",
    "        state = np.concatenate((self.malus_position.reshape(self.grid_size, self.grid_size,1),\n",
    "                                self.board.reshape(self.grid_size, self.grid_size,1),\n",
    "                        self.position.reshape(self.grid_size, self.grid_size,1)),axis=2)\n",
    "        \n",
    "        state = state[self.x-2:self.x+3,self.y-2:self.y+3,:]\n",
    "\n",
    "        return state, reward, game_over\n",
    "\n",
    "    def reset(self):\n",
    "        \"\"\"This function resets the game and returns the initial state\"\"\"\n",
    "\n",
    "        self.x = np.random.randint(3, self.grid_size-3, size=1)[0]\n",
    "        self.y = np.random.randint(3, self.grid_size-3, size=1)[0]\n",
    "\n",
    "\n",
    "        bonus = 0.5*np.random.binomial(1,self.temperature,size=self.grid_size**2)\n",
    "        bonus = bonus.reshape(self.grid_size,self.grid_size)\n",
    "\n",
    "        malus = -1.0*np.random.binomial(1,self.temperature,size=self.grid_size**2)\n",
    "        malus = malus.reshape(self.grid_size, self.grid_size)\n",
    "\n",
    "        self.to_draw = np.zeros((self.max_time+2, self.grid_size*self.scale, self.grid_size*self.scale, 3))\n",
    "\n",
    "\n",
    "        malus[bonus>0]=0\n",
    "\n",
    "        self.board = bonus + malus\n",
    "\n",
    "        self.malus_position = np.zeros((self.grid_size, self.grid_size))\n",
    "        self.position = np.zeros((self.grid_size, self.grid_size))\n",
    "        self.position[0:2,:]= -1\n",
    "        self.position[:,0:2] = -1\n",
    "        self.position[-2:, :] = -1\n",
    "        self.position[-2:, :] = -1\n",
    "        self.board[self.x,self.y] = 0\n",
    "        self.t = 0\n",
    "\n",
    "        state = np.concatenate((self.malus_position.reshape(self.grid_size, self.grid_size,1),\n",
    "                                        self.board.reshape(self.grid_size, self.grid_size,1),\n",
    "                                self.position.reshape(self.grid_size, self.grid_size,1)),axis=2)\n",
    "        \n",
    "        state = state[self.x - 2:self.x + 3, self.y - 2:self.y + 3, :]\n",
    "        return state \n",
    "    "
   ]
  },
  {
   "cell_type": "code",
   "execution_count": 36,
   "metadata": {
    "colab": {},
    "colab_type": "code",
    "id": "4x662o-3Vbm2"
   },
   "outputs": [
    {
     "name": "stdout",
     "output_type": "stream",
     "text": [
      "Epoch 000/101 | Loss 0.0039 | Win/lose count 4.5/21.50000000000004 (-17.00000000000004)\n",
      "Epoch 001/101 | Loss 0.0097 | Win/lose count 5.0/21.000000000000032 (-16.000000000000032)\n",
      "Epoch 002/101 | Loss 0.0078 | Win/lose count 3.5/27.000000000000124 (-23.500000000000124)\n",
      "Epoch 003/101 | Loss 0.0070 | Win/lose count 2.0/24.10000000000005 (-22.10000000000005)\n",
      "Epoch 004/101 | Loss 0.0083 | Win/lose count 10.5/19.6 (-9.100000000000001)\n",
      "Epoch 005/101 | Loss 0.0252 | Win/lose count 4.0/20.200000000000024 (-16.200000000000024)\n",
      "Epoch 006/101 | Loss 0.0133 | Win/lose count 8.0/20.00000000000001 (-12.00000000000001)\n",
      "Epoch 007/101 | Loss 0.0078 | Win/lose count 3.5/21.90000000000004 (-18.40000000000004)\n",
      "Epoch 008/101 | Loss 0.0064 | Win/lose count 5.0/16.89999999999997 (-11.89999999999997)\n",
      "Epoch 009/101 | Loss 0.0052 | Win/lose count 5.5/18.19999999999999 (-12.699999999999989)\n",
      "Epoch 010/101 | Loss 0.0048 | Win/lose count 6.5/18.7 (-12.2)\n",
      "Epoch 011/101 | Loss 0.0024 | Win/lose count 13.0/15.69999999999996 (-2.69999999999996)\n",
      "Epoch 012/101 | Loss 0.0045 | Win/lose count 9.5/18.199999999999992 (-8.699999999999992)\n",
      "Epoch 013/101 | Loss 0.0079 | Win/lose count 4.5/20.200000000000006 (-15.700000000000006)\n",
      "Epoch 014/101 | Loss 0.0055 | Win/lose count 9.5/17.49999999999997 (-7.999999999999972)\n",
      "Epoch 015/101 | Loss 0.0047 | Win/lose count 7.0/21.600000000000033 (-14.600000000000033)\n",
      "Epoch 016/101 | Loss 0.0038 | Win/lose count 12.5/18.500000000000004 (-6.0000000000000036)\n",
      "Epoch 017/101 | Loss 0.0034 | Win/lose count 12.0/16.69999999999997 (-4.699999999999971)\n",
      "Epoch 018/101 | Loss 0.0057 | Win/lose count 9.0/19.000000000000004 (-10.000000000000004)\n",
      "Epoch 019/101 | Loss 0.0071 | Win/lose count 8.0/17.29999999999998 (-9.29999999999998)\n",
      "Epoch 020/101 | Loss 0.0093 | Win/lose count 10.0/18.09999999999999 (-8.09999999999999)\n",
      "Epoch 021/101 | Loss 0.0090 | Win/lose count 7.5/17.99999999999999 (-10.49999999999999)\n",
      "Epoch 022/101 | Loss 0.0085 | Win/lose count 14.0/15.799999999999965 (-1.7999999999999652)\n",
      "Epoch 023/101 | Loss 0.0162 | Win/lose count 14.0/14.499999999999968 (-0.499999999999968)\n",
      "Epoch 024/101 | Loss 0.0232 | Win/lose count 10.0/15.099999999999962 (-5.099999999999962)\n",
      "Epoch 025/101 | Loss 0.0073 | Win/lose count 19.5/11.799999999999974 (7.700000000000026)\n",
      "Epoch 026/101 | Loss 0.0087 | Win/lose count 14.0/15.599999999999964 (-1.5999999999999641)\n",
      "Epoch 027/101 | Loss 0.0028 | Win/lose count 15.5/12.599999999999971 (2.9000000000000288)\n",
      "Epoch 028/101 | Loss 0.0119 | Win/lose count 26.0/12.399999999999975 (13.600000000000025)\n",
      "Epoch 029/101 | Loss 0.0108 | Win/lose count 3.5/19.900000000000016 (-16.400000000000016)\n",
      "Epoch 030/101 | Loss 0.0153 | Win/lose count 8.0/17.199999999999974 (-9.199999999999974)\n",
      "Epoch 031/101 | Loss 0.0045 | Win/lose count 12.5/15.999999999999963 (-3.4999999999999627)\n",
      "Epoch 032/101 | Loss 0.0089 | Win/lose count 17.0/13.399999999999968 (3.6000000000000316)\n",
      "Epoch 033/101 | Loss 0.0094 | Win/lose count 15.0/16.599999999999973 (-1.599999999999973)\n",
      "Epoch 034/101 | Loss 0.0081 | Win/lose count 25.5/12.599999999999975 (12.900000000000025)\n",
      "Epoch 035/101 | Loss 0.0091 | Win/lose count 26.0/11.99999999999998 (14.00000000000002)\n",
      "Epoch 036/101 | Loss 0.0080 | Win/lose count 20.0/12.299999999999972 (7.700000000000028)\n",
      "Epoch 037/101 | Loss 0.0127 | Win/lose count 22.0/15.699999999999967 (6.300000000000033)\n",
      "Epoch 038/101 | Loss 0.0156 | Win/lose count 19.0/11.999999999999977 (7.000000000000023)\n",
      "Epoch 039/101 | Loss 0.0125 | Win/lose count 16.0/13.399999999999972 (2.600000000000028)\n",
      "Epoch 040/101 | Loss 0.0084 | Win/lose count 21.0/10.599999999999978 (10.400000000000022)\n",
      "Epoch 041/101 | Loss 0.0119 | Win/lose count 15.5/16.599999999999973 (-1.099999999999973)\n",
      "Epoch 042/101 | Loss 0.0301 | Win/lose count 23.0/10.799999999999978 (12.200000000000022)\n",
      "Epoch 043/101 | Loss 0.0132 | Win/lose count 15.5/15.099999999999973 (0.400000000000027)\n",
      "Epoch 044/101 | Loss 0.0085 | Win/lose count 19.5/13.399999999999977 (6.100000000000023)\n",
      "Epoch 045/101 | Loss 0.0185 | Win/lose count 28.5/13.199999999999976 (15.300000000000024)\n",
      "Epoch 046/101 | Loss 0.0080 | Win/lose count 23.5/13.099999999999973 (10.400000000000027)\n",
      "Epoch 047/101 | Loss 0.0119 | Win/lose count 21.5/13.899999999999967 (7.600000000000033)\n",
      "Epoch 048/101 | Loss 0.0106 | Win/lose count 24.5/15.19999999999997 (9.30000000000003)\n",
      "Epoch 049/101 | Loss 0.0196 | Win/lose count 22.5/12.999999999999977 (9.500000000000023)\n",
      "Epoch 050/101 | Loss 0.0109 | Win/lose count 13.0/16.099999999999966 (-3.099999999999966)\n",
      "Epoch 051/101 | Loss 0.0121 | Win/lose count 21.0/12.899999999999975 (8.100000000000025)\n",
      "Epoch 052/101 | Loss 0.0467 | Win/lose count 18.0/13.299999999999976 (4.700000000000024)\n",
      "Epoch 053/101 | Loss 0.0136 | Win/lose count 23.0/13.899999999999967 (9.100000000000033)\n",
      "Epoch 054/101 | Loss 0.0104 | Win/lose count 24.0/11.399999999999975 (12.600000000000025)\n",
      "Epoch 055/101 | Loss 0.0155 | Win/lose count 22.0/14.699999999999982 (7.3000000000000185)\n",
      "Epoch 056/101 | Loss 0.0113 | Win/lose count 22.0/12.299999999999972 (9.700000000000028)\n",
      "Epoch 057/101 | Loss 0.0158 | Win/lose count 19.0/14.799999999999974 (4.200000000000026)\n",
      "Epoch 058/101 | Loss 0.0088 | Win/lose count 26.0/9.799999999999981 (16.200000000000017)\n",
      "Epoch 059/101 | Loss 0.0214 | Win/lose count 18.0/16.79999999999999 (1.20000000000001)\n",
      "Epoch 060/101 | Loss 0.0100 | Win/lose count 18.5/13.999999999999968 (4.500000000000032)\n",
      "Epoch 061/101 | Loss 0.0100 | Win/lose count 24.0/10.699999999999983 (13.300000000000017)\n",
      "Epoch 062/101 | Loss 0.0149 | Win/lose count 21.0/10.499999999999982 (10.500000000000018)\n",
      "Epoch 063/101 | Loss 0.0135 | Win/lose count 17.5/13.499999999999972 (4.000000000000028)\n",
      "Epoch 064/101 | Loss 0.0151 | Win/lose count 22.5/13.699999999999974 (8.800000000000026)\n",
      "Epoch 065/101 | Loss 0.0128 | Win/lose count 23.5/10.399999999999979 (13.100000000000021)\n",
      "Epoch 066/101 | Loss 0.0162 | Win/lose count 19.5/12.09999999999998 (7.40000000000002)\n",
      "Epoch 067/101 | Loss 0.0100 | Win/lose count 24.0/11.799999999999981 (12.200000000000019)\n",
      "Epoch 068/101 | Loss 0.0144 | Win/lose count 23.5/12.699999999999973 (10.800000000000027)\n",
      "Epoch 069/101 | Loss 0.0125 | Win/lose count 24.0/14.499999999999972 (9.500000000000028)\n",
      "Epoch 070/101 | Loss 0.0115 | Win/lose count 23.0/10.599999999999978 (12.400000000000022)\n",
      "Epoch 071/101 | Loss 0.0065 | Win/lose count 19.0/13.199999999999978 (5.800000000000022)\n",
      "Epoch 072/101 | Loss 0.0147 | Win/lose count 24.0/13.299999999999978 (10.700000000000022)\n",
      "Epoch 073/101 | Loss 0.0181 | Win/lose count 21.0/13.69999999999997 (7.300000000000029)\n",
      "Epoch 074/101 | Loss 0.0286 | Win/lose count 19.5/17.099999999999973 (2.400000000000027)\n",
      "Epoch 075/101 | Loss 0.0150 | Win/lose count 23.5/11.399999999999979 (12.100000000000021)\n",
      "Epoch 076/101 | Loss 0.0125 | Win/lose count 20.5/16.39999999999997 (4.10000000000003)\n",
      "Epoch 077/101 | Loss 0.0116 | Win/lose count 22.0/15.89999999999997 (6.10000000000003)\n",
      "Epoch 078/101 | Loss 0.0111 | Win/lose count 14.5/17.29999999999998 (-2.7999999999999794)\n",
      "Epoch 079/101 | Loss 0.0167 | Win/lose count 21.5/17.19999999999999 (4.300000000000011)\n",
      "Epoch 080/101 | Loss 0.0113 | Win/lose count 18.0/16.599999999999984 (1.4000000000000163)\n",
      "Epoch 081/101 | Loss 0.0169 | Win/lose count 19.5/12.799999999999974 (6.700000000000026)\n",
      "Epoch 082/101 | Loss 0.0113 | Win/lose count 18.5/15.399999999999967 (3.1000000000000334)\n",
      "Epoch 083/101 | Loss 0.0109 | Win/lose count 20.5/13.299999999999972 (7.200000000000028)\n",
      "Epoch 084/101 | Loss 0.0270 | Win/lose count 22.5/13.699999999999973 (8.800000000000027)\n",
      "Epoch 085/101 | Loss 0.0081 | Win/lose count 22.0/12.299999999999976 (9.700000000000024)\n",
      "Epoch 086/101 | Loss 0.0099 | Win/lose count 22.5/11.699999999999982 (10.800000000000018)\n",
      "Epoch 087/101 | Loss 0.0153 | Win/lose count 22.5/13.299999999999974 (9.200000000000026)\n",
      "Epoch 088/101 | Loss 0.0215 | Win/lose count 20.5/10.599999999999978 (9.900000000000022)\n",
      "Epoch 089/101 | Loss 0.0134 | Win/lose count 20.5/15.199999999999976 (5.300000000000024)\n",
      "Epoch 090/101 | Loss 0.0185 | Win/lose count 18.0/13.399999999999972 (4.600000000000028)\n",
      "Epoch 091/101 | Loss 0.0160 | Win/lose count 19.5/11.699999999999978 (7.800000000000022)\n",
      "Epoch 092/101 | Loss 0.0212 | Win/lose count 17.0/16.699999999999974 (0.3000000000000256)\n"
     ]
    },
    {
     "name": "stdout",
     "output_type": "stream",
     "text": [
      "Epoch 093/101 | Loss 0.0100 | Win/lose count 19.0/12.699999999999974 (6.300000000000026)\n",
      "Epoch 094/101 | Loss 0.0100 | Win/lose count 24.5/14.299999999999974 (10.200000000000026)\n",
      "Epoch 095/101 | Loss 0.0068 | Win/lose count 24.5/14.999999999999977 (9.500000000000023)\n",
      "Epoch 096/101 | Loss 0.0299 | Win/lose count 24.0/11.999999999999977 (12.000000000000023)\n",
      "Epoch 097/101 | Loss 0.0177 | Win/lose count 28.0/9.89999999999998 (18.10000000000002)\n",
      "Epoch 098/101 | Loss 0.0135 | Win/lose count 23.0/11.69999999999998 (11.30000000000002)\n",
      "Epoch 099/101 | Loss 0.0149 | Win/lose count 21.0/12.099999999999973 (8.900000000000027)\n",
      "Epoch 100/101 | Loss 0.0131 | Win/lose count 27.5/11.599999999999978 (15.900000000000022)\n"
     ]
    },
    {
     "data": {
      "text/html": [
       "<video alt=\"test\" controls>\n",
       "                <source src=\"data:video/mp4;base64,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\" type=\"video/mp4\" />\n",
       "             </video>"
      ],
      "text/plain": [
       "<IPython.core.display.HTML object>"
      ]
     },
     "execution_count": 36,
     "metadata": {},
     "output_type": "execute_result"
    }
   ],
   "source": [
    "# Training\n",
    "env = EnvironmentExploring(grid_size=size, max_time=T, temperature=0.3)\n",
    "agent = DQN_CNN(size, lr=.1, epsilon = 0.1, memory_size=2000, batch_size = 32,n_state=3)\n",
    "train_explore(agent, env, epochs_train, prefix='cnn_train_explore')\n",
    "HTML(display_videos('cnn_train_explore10.mp4'))"
   ]
  },
  {
   "cell_type": "code",
   "execution_count": 38,
   "metadata": {
    "colab": {},
    "colab_type": "code",
    "id": "rR2OpT27Vbm5"
   },
   "outputs": [
    {
     "name": "stdout",
     "output_type": "stream",
     "text": [
      "Win/lose count 16.5/12.69999999999997. Average score (3.800000000000029)\n",
      "Win/lose count 22.0/15.499999999999972. Average score (5.150000000000029)\n",
      "Win/lose count 24.0/14.599999999999982. Average score (6.566666666666691)\n",
      "Win/lose count 23.5/14.399999999999974. Average score (7.200000000000025)\n",
      "Win/lose count 21.0/14.599999999999975. Average score (7.040000000000025)\n",
      "Win/lose count 17.5/17.599999999999987. Average score (5.850000000000023)\n",
      "Win/lose count 16.0/15.599999999999971. Average score (5.071428571428595)\n",
      "Win/lose count 20.0/10.899999999999979. Average score (5.575000000000023)\n",
      "Win/lose count 19.5/14.199999999999976. Average score (5.544444444444469)\n",
      "Win/lose count 21.0/9.799999999999985. Average score (6.110000000000023)\n",
      "Win/lose count 19.5/13.399999999999972. Average score (6.109090909090932)\n",
      "Final score: 6.109090909090932\n"
     ]
    },
    {
     "data": {
      "text/html": [
       "<video alt=\"test\" controls>\n",
       "                <source src=\"data:video/mp4;base64,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\" type=\"video/mp4\" />\n",
       "             </video>"
      ],
      "text/plain": [
       "<IPython.core.display.HTML object>"
      ]
     },
     "execution_count": 38,
     "metadata": {},
     "output_type": "execute_result"
    }
   ],
   "source": [
    "# Evaluation\n",
    "test(agent,env,epochs_test,prefix='cnn_test_explore')\n",
    "HTML(display_videos('cnn_test_explore10.mp4'))"
   ]
  },
  {
   "cell_type": "markdown",
   "metadata": {
    "colab_type": "text",
    "id": "AkeMDUs_Vbm7"
   },
   "source": [
    "***\n",
    "***\n",
    "__BONUS question__ Use the expert DQN from the previous question to generate some winning games. Train a model that mimicks its behavior. Compare the performances."
   ]
  },
  {
   "cell_type": "markdown",
   "metadata": {
    "colab_type": "text",
    "id": "3ggDtW3BVbm9"
   },
   "source": []
  },
  {
   "cell_type": "markdown",
   "metadata": {
    "colab_type": "text",
    "id": "SFwfi8mNVbm9"
   },
   "source": [
    "***"
   ]
  }
 ],
 "metadata": {
  "accelerator": "GPU",
  "colab": {
   "name": "DQN_project_MVA_BOUJNOUNI.ipynb",
   "provenance": [],
   "version": "0.3.2"
  },
  "kernelspec": {
   "display_name": "Python 3",
   "language": "python",
   "name": "python3"
  },
  "language_info": {
   "codemirror_mode": {
    "name": "ipython",
    "version": 3
   },
   "file_extension": ".py",
   "mimetype": "text/x-python",
   "name": "python",
   "nbconvert_exporter": "python",
   "pygments_lexer": "ipython3",
   "version": "3.7.2"
  }
 },
 "nbformat": 4,
 "nbformat_minor": 1
}
